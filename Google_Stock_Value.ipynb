{
  "nbformat": 4,
  "nbformat_minor": 0,
  "metadata": {
    "colab": {
      "provenance": [],
      "gpuType": "T4"
    },
    "kernelspec": {
      "name": "python3",
      "display_name": "Python 3"
    },
    "language_info": {
      "name": "python"
    },
    "accelerator": "GPU"
  },
  "cells": [
    {
      "cell_type": "code",
      "execution_count": 1,
      "metadata": {
        "id": "VUGHSl3lUJUb"
      },
      "outputs": [],
      "source": [
        "import yfinance as yf\n",
        "import tensorflow as tf\n",
        "import pandas as pd\n",
        "import numpy as np\n",
        "import matplotlib.pyplot as plt\n",
        "from sklearn.preprocessing import MinMaxScaler"
      ]
    },
    {
      "cell_type": "markdown",
      "source": [
        "# Downlod Google Stock Value"
      ],
      "metadata": {
        "id": "mKpFvZ2MUjEI"
      }
    },
    {
      "cell_type": "code",
      "source": [
        "# Define the stock symbol (ticker)\n",
        "stock_symbol = 'GOOGL'\n",
        "\n",
        "# Define the time period for which you want to download stock data\n",
        "start_date = '2010-01-01'\n",
        "end_date = '2023-01-01'\n",
        "\n",
        "# Download historical stock data\n",
        "stock_data = yf.download(stock_symbol, start=start_date, end=end_date)"
      ],
      "metadata": {
        "colab": {
          "base_uri": "https://localhost:8080/"
        },
        "id": "Oavf2gCFUlMO",
        "outputId": "6d35c332-7c76-4728-cd94-a44cadf97386"
      },
      "execution_count": 2,
      "outputs": [
        {
          "output_type": "stream",
          "name": "stdout",
          "text": [
            "\r[*********************100%%**********************]  1 of 1 completed\n"
          ]
        }
      ]
    },
    {
      "cell_type": "code",
      "source": [
        "# Head of stock data\n",
        "stock_data.head(5)"
      ],
      "metadata": {
        "colab": {
          "base_uri": "https://localhost:8080/",
          "height": 238
        },
        "id": "ivhWSRVRUnSO",
        "outputId": "a7519316-f9f6-41e1-f7f8-b2c8ba022c74"
      },
      "execution_count": 3,
      "outputs": [
        {
          "output_type": "execute_result",
          "data": {
            "text/plain": [
              "                 Open       High        Low      Close  Adj Close     Volume\n",
              "Date                                                                        \n",
              "2010-01-04  15.689439  15.753504  15.621622  15.684434  15.684434   78169752\n",
              "2010-01-05  15.695195  15.711712  15.554054  15.615365  15.615365  120067812\n",
              "2010-01-06  15.662162  15.662162  15.174174  15.221722  15.221722  158988852\n",
              "2010-01-07  15.250250  15.265265  14.831081  14.867367  14.867367  256315428\n",
              "2010-01-08  14.814815  15.096346  14.742492  15.065566  15.065566  188783028"
            ],
            "text/html": [
              "\n",
              "  <div id=\"df-6d9e30fc-16af-4b60-b3ef-e7a82cff5093\" class=\"colab-df-container\">\n",
              "    <div>\n",
              "<style scoped>\n",
              "    .dataframe tbody tr th:only-of-type {\n",
              "        vertical-align: middle;\n",
              "    }\n",
              "\n",
              "    .dataframe tbody tr th {\n",
              "        vertical-align: top;\n",
              "    }\n",
              "\n",
              "    .dataframe thead th {\n",
              "        text-align: right;\n",
              "    }\n",
              "</style>\n",
              "<table border=\"1\" class=\"dataframe\">\n",
              "  <thead>\n",
              "    <tr style=\"text-align: right;\">\n",
              "      <th></th>\n",
              "      <th>Open</th>\n",
              "      <th>High</th>\n",
              "      <th>Low</th>\n",
              "      <th>Close</th>\n",
              "      <th>Adj Close</th>\n",
              "      <th>Volume</th>\n",
              "    </tr>\n",
              "    <tr>\n",
              "      <th>Date</th>\n",
              "      <th></th>\n",
              "      <th></th>\n",
              "      <th></th>\n",
              "      <th></th>\n",
              "      <th></th>\n",
              "      <th></th>\n",
              "    </tr>\n",
              "  </thead>\n",
              "  <tbody>\n",
              "    <tr>\n",
              "      <th>2010-01-04</th>\n",
              "      <td>15.689439</td>\n",
              "      <td>15.753504</td>\n",
              "      <td>15.621622</td>\n",
              "      <td>15.684434</td>\n",
              "      <td>15.684434</td>\n",
              "      <td>78169752</td>\n",
              "    </tr>\n",
              "    <tr>\n",
              "      <th>2010-01-05</th>\n",
              "      <td>15.695195</td>\n",
              "      <td>15.711712</td>\n",
              "      <td>15.554054</td>\n",
              "      <td>15.615365</td>\n",
              "      <td>15.615365</td>\n",
              "      <td>120067812</td>\n",
              "    </tr>\n",
              "    <tr>\n",
              "      <th>2010-01-06</th>\n",
              "      <td>15.662162</td>\n",
              "      <td>15.662162</td>\n",
              "      <td>15.174174</td>\n",
              "      <td>15.221722</td>\n",
              "      <td>15.221722</td>\n",
              "      <td>158988852</td>\n",
              "    </tr>\n",
              "    <tr>\n",
              "      <th>2010-01-07</th>\n",
              "      <td>15.250250</td>\n",
              "      <td>15.265265</td>\n",
              "      <td>14.831081</td>\n",
              "      <td>14.867367</td>\n",
              "      <td>14.867367</td>\n",
              "      <td>256315428</td>\n",
              "    </tr>\n",
              "    <tr>\n",
              "      <th>2010-01-08</th>\n",
              "      <td>14.814815</td>\n",
              "      <td>15.096346</td>\n",
              "      <td>14.742492</td>\n",
              "      <td>15.065566</td>\n",
              "      <td>15.065566</td>\n",
              "      <td>188783028</td>\n",
              "    </tr>\n",
              "  </tbody>\n",
              "</table>\n",
              "</div>\n",
              "    <div class=\"colab-df-buttons\">\n",
              "\n",
              "  <div class=\"colab-df-container\">\n",
              "    <button class=\"colab-df-convert\" onclick=\"convertToInteractive('df-6d9e30fc-16af-4b60-b3ef-e7a82cff5093')\"\n",
              "            title=\"Convert this dataframe to an interactive table.\"\n",
              "            style=\"display:none;\">\n",
              "\n",
              "  <svg xmlns=\"http://www.w3.org/2000/svg\" height=\"24px\" viewBox=\"0 -960 960 960\">\n",
              "    <path d=\"M120-120v-720h720v720H120Zm60-500h600v-160H180v160Zm220 220h160v-160H400v160Zm0 220h160v-160H400v160ZM180-400h160v-160H180v160Zm440 0h160v-160H620v160ZM180-180h160v-160H180v160Zm440 0h160v-160H620v160Z\"/>\n",
              "  </svg>\n",
              "    </button>\n",
              "\n",
              "  <style>\n",
              "    .colab-df-container {\n",
              "      display:flex;\n",
              "      gap: 12px;\n",
              "    }\n",
              "\n",
              "    .colab-df-convert {\n",
              "      background-color: #E8F0FE;\n",
              "      border: none;\n",
              "      border-radius: 50%;\n",
              "      cursor: pointer;\n",
              "      display: none;\n",
              "      fill: #1967D2;\n",
              "      height: 32px;\n",
              "      padding: 0 0 0 0;\n",
              "      width: 32px;\n",
              "    }\n",
              "\n",
              "    .colab-df-convert:hover {\n",
              "      background-color: #E2EBFA;\n",
              "      box-shadow: 0px 1px 2px rgba(60, 64, 67, 0.3), 0px 1px 3px 1px rgba(60, 64, 67, 0.15);\n",
              "      fill: #174EA6;\n",
              "    }\n",
              "\n",
              "    .colab-df-buttons div {\n",
              "      margin-bottom: 4px;\n",
              "    }\n",
              "\n",
              "    [theme=dark] .colab-df-convert {\n",
              "      background-color: #3B4455;\n",
              "      fill: #D2E3FC;\n",
              "    }\n",
              "\n",
              "    [theme=dark] .colab-df-convert:hover {\n",
              "      background-color: #434B5C;\n",
              "      box-shadow: 0px 1px 3px 1px rgba(0, 0, 0, 0.15);\n",
              "      filter: drop-shadow(0px 1px 2px rgba(0, 0, 0, 0.3));\n",
              "      fill: #FFFFFF;\n",
              "    }\n",
              "  </style>\n",
              "\n",
              "    <script>\n",
              "      const buttonEl =\n",
              "        document.querySelector('#df-6d9e30fc-16af-4b60-b3ef-e7a82cff5093 button.colab-df-convert');\n",
              "      buttonEl.style.display =\n",
              "        google.colab.kernel.accessAllowed ? 'block' : 'none';\n",
              "\n",
              "      async function convertToInteractive(key) {\n",
              "        const element = document.querySelector('#df-6d9e30fc-16af-4b60-b3ef-e7a82cff5093');\n",
              "        const dataTable =\n",
              "          await google.colab.kernel.invokeFunction('convertToInteractive',\n",
              "                                                    [key], {});\n",
              "        if (!dataTable) return;\n",
              "\n",
              "        const docLinkHtml = 'Like what you see? Visit the ' +\n",
              "          '<a target=\"_blank\" href=https://colab.research.google.com/notebooks/data_table.ipynb>data table notebook</a>'\n",
              "          + ' to learn more about interactive tables.';\n",
              "        element.innerHTML = '';\n",
              "        dataTable['output_type'] = 'display_data';\n",
              "        await google.colab.output.renderOutput(dataTable, element);\n",
              "        const docLink = document.createElement('div');\n",
              "        docLink.innerHTML = docLinkHtml;\n",
              "        element.appendChild(docLink);\n",
              "      }\n",
              "    </script>\n",
              "  </div>\n",
              "\n",
              "\n",
              "<div id=\"df-da4cc80e-6f33-41f6-baac-ebc603bca96b\">\n",
              "  <button class=\"colab-df-quickchart\" onclick=\"quickchart('df-da4cc80e-6f33-41f6-baac-ebc603bca96b')\"\n",
              "            title=\"Suggest charts\"\n",
              "            style=\"display:none;\">\n",
              "\n",
              "<svg xmlns=\"http://www.w3.org/2000/svg\" height=\"24px\"viewBox=\"0 0 24 24\"\n",
              "     width=\"24px\">\n",
              "    <g>\n",
              "        <path d=\"M19 3H5c-1.1 0-2 .9-2 2v14c0 1.1.9 2 2 2h14c1.1 0 2-.9 2-2V5c0-1.1-.9-2-2-2zM9 17H7v-7h2v7zm4 0h-2V7h2v10zm4 0h-2v-4h2v4z\"/>\n",
              "    </g>\n",
              "</svg>\n",
              "  </button>\n",
              "\n",
              "<style>\n",
              "  .colab-df-quickchart {\n",
              "      --bg-color: #E8F0FE;\n",
              "      --fill-color: #1967D2;\n",
              "      --hover-bg-color: #E2EBFA;\n",
              "      --hover-fill-color: #174EA6;\n",
              "      --disabled-fill-color: #AAA;\n",
              "      --disabled-bg-color: #DDD;\n",
              "  }\n",
              "\n",
              "  [theme=dark] .colab-df-quickchart {\n",
              "      --bg-color: #3B4455;\n",
              "      --fill-color: #D2E3FC;\n",
              "      --hover-bg-color: #434B5C;\n",
              "      --hover-fill-color: #FFFFFF;\n",
              "      --disabled-bg-color: #3B4455;\n",
              "      --disabled-fill-color: #666;\n",
              "  }\n",
              "\n",
              "  .colab-df-quickchart {\n",
              "    background-color: var(--bg-color);\n",
              "    border: none;\n",
              "    border-radius: 50%;\n",
              "    cursor: pointer;\n",
              "    display: none;\n",
              "    fill: var(--fill-color);\n",
              "    height: 32px;\n",
              "    padding: 0;\n",
              "    width: 32px;\n",
              "  }\n",
              "\n",
              "  .colab-df-quickchart:hover {\n",
              "    background-color: var(--hover-bg-color);\n",
              "    box-shadow: 0 1px 2px rgba(60, 64, 67, 0.3), 0 1px 3px 1px rgba(60, 64, 67, 0.15);\n",
              "    fill: var(--button-hover-fill-color);\n",
              "  }\n",
              "\n",
              "  .colab-df-quickchart-complete:disabled,\n",
              "  .colab-df-quickchart-complete:disabled:hover {\n",
              "    background-color: var(--disabled-bg-color);\n",
              "    fill: var(--disabled-fill-color);\n",
              "    box-shadow: none;\n",
              "  }\n",
              "\n",
              "  .colab-df-spinner {\n",
              "    border: 2px solid var(--fill-color);\n",
              "    border-color: transparent;\n",
              "    border-bottom-color: var(--fill-color);\n",
              "    animation:\n",
              "      spin 1s steps(1) infinite;\n",
              "  }\n",
              "\n",
              "  @keyframes spin {\n",
              "    0% {\n",
              "      border-color: transparent;\n",
              "      border-bottom-color: var(--fill-color);\n",
              "      border-left-color: var(--fill-color);\n",
              "    }\n",
              "    20% {\n",
              "      border-color: transparent;\n",
              "      border-left-color: var(--fill-color);\n",
              "      border-top-color: var(--fill-color);\n",
              "    }\n",
              "    30% {\n",
              "      border-color: transparent;\n",
              "      border-left-color: var(--fill-color);\n",
              "      border-top-color: var(--fill-color);\n",
              "      border-right-color: var(--fill-color);\n",
              "    }\n",
              "    40% {\n",
              "      border-color: transparent;\n",
              "      border-right-color: var(--fill-color);\n",
              "      border-top-color: var(--fill-color);\n",
              "    }\n",
              "    60% {\n",
              "      border-color: transparent;\n",
              "      border-right-color: var(--fill-color);\n",
              "    }\n",
              "    80% {\n",
              "      border-color: transparent;\n",
              "      border-right-color: var(--fill-color);\n",
              "      border-bottom-color: var(--fill-color);\n",
              "    }\n",
              "    90% {\n",
              "      border-color: transparent;\n",
              "      border-bottom-color: var(--fill-color);\n",
              "    }\n",
              "  }\n",
              "</style>\n",
              "\n",
              "  <script>\n",
              "    async function quickchart(key) {\n",
              "      const quickchartButtonEl =\n",
              "        document.querySelector('#' + key + ' button');\n",
              "      quickchartButtonEl.disabled = true;  // To prevent multiple clicks.\n",
              "      quickchartButtonEl.classList.add('colab-df-spinner');\n",
              "      try {\n",
              "        const charts = await google.colab.kernel.invokeFunction(\n",
              "            'suggestCharts', [key], {});\n",
              "      } catch (error) {\n",
              "        console.error('Error during call to suggestCharts:', error);\n",
              "      }\n",
              "      quickchartButtonEl.classList.remove('colab-df-spinner');\n",
              "      quickchartButtonEl.classList.add('colab-df-quickchart-complete');\n",
              "    }\n",
              "    (() => {\n",
              "      let quickchartButtonEl =\n",
              "        document.querySelector('#df-da4cc80e-6f33-41f6-baac-ebc603bca96b button');\n",
              "      quickchartButtonEl.style.display =\n",
              "        google.colab.kernel.accessAllowed ? 'block' : 'none';\n",
              "    })();\n",
              "  </script>\n",
              "</div>\n",
              "    </div>\n",
              "  </div>\n"
            ]
          },
          "metadata": {},
          "execution_count": 3
        }
      ]
    },
    {
      "cell_type": "markdown",
      "source": [
        "#### PLot Closing prices"
      ],
      "metadata": {
        "id": "C-5uw4Y1UwcZ"
      }
    },
    {
      "cell_type": "code",
      "source": [
        "plt.figure(figsize=(10, 6))\n",
        "stock_data['Close'].plot(title=f'{stock_symbol} Stock Price ({start_date} to {end_date})')\n",
        "plt.xlabel('Date')\n",
        "plt.ylabel('Closing Price (USD)')\n",
        "plt.show()"
      ],
      "metadata": {
        "colab": {
          "base_uri": "https://localhost:8080/",
          "height": 526
        },
        "id": "WooK1JSFUqWN",
        "outputId": "46cfa816-1823-4e74-dd9a-141642aa35aa"
      },
      "execution_count": 4,
      "outputs": [
        {
          "output_type": "display_data",
          "data": {
            "text/plain": [
              "<Figure size 1000x600 with 1 Axes>"
            ],
            "image/png": "[encoded data removed]"
          },
          "metadata": {}
        }
      ]
    },
    {
      "cell_type": "markdown",
      "source": [
        "# Train , Validation Split of data"
      ],
      "metadata": {
        "id": "2Za6lPN6U61d"
      }
    },
    {
      "cell_type": "code",
      "source": [
        "# number of samples\n",
        "N = len(stock_data)\n",
        "\n",
        "# number of training samples\n",
        "N_train = int(np.floor(0.8*N))"
      ],
      "metadata": {
        "id": "nvSn0jA3U1kc"
      },
      "execution_count": 5,
      "outputs": []
    },
    {
      "cell_type": "code",
      "source": [
        "def time_series_data(df, N_train,X_steps, y_steps):\n",
        "    train_df = df.iloc[:N_train].Close.values.reshape(-1, 1)\n",
        "    test_df = df.iloc[N_train:].Close.values.reshape(-1, 1)\n",
        "\n",
        "    sc = MinMaxScaler(feature_range=(0, 1))\n",
        "    train_df_scaled = sc.fit_transform(train_df)\n",
        "\n",
        "    X_train = []\n",
        "    y_train = []\n",
        "    for i in range(X_steps, len(train_df_scaled)-y_steps+1):\n",
        "        X_train.append(train_df_scaled[i-X_steps:i, 0])\n",
        "        y_train.append(train_df_scaled[i:i+y_steps, 0])\n",
        "\n",
        "    X_train = np.array(X_train)\n",
        "    y_train = np.array(y_train)\n",
        "\n",
        "    X_train = X_train.reshape((X_train.shape[0], X_train.shape[1], 1))\n",
        "\n",
        "    X = df.Close.values\n",
        "    X = X[len(X)-len(test_df)-X_steps:]\n",
        "    X = X.reshape(-1, 1)\n",
        "    X = sc.transform(X)\n",
        "\n",
        "    X_test = []\n",
        "    y_test = []\n",
        "\n",
        "    for i in range(X_steps, len(test_df)+X_steps-y_steps+1):\n",
        "        X_test.append(X[i-X_steps:i, 0])\n",
        "        y_test.append(X[i:i+y_steps, 0])\n",
        "\n",
        "    X_test = np.array(X_test)\n",
        "    X_test = X_test.reshape((X_test.shape[0], X_test.shape[1], 1))\n",
        "    y_test = np.array(y_test)\n",
        "\n",
        "    return X_train, y_train, X_test, y_test, sc"
      ],
      "metadata": {
        "id": "1XWxkyqpU9YG"
      },
      "execution_count": 6,
      "outputs": []
    },
    {
      "cell_type": "code",
      "source": [
        "X_train, y_train,X_val,y_val ,sc = time_series_data(stock_data,N_train,6,2)"
      ],
      "metadata": {
        "id": "skV2o8o3VAn4"
      },
      "execution_count": 7,
      "outputs": []
    },
    {
      "cell_type": "markdown",
      "source": [
        "# Simple RNN Model"
      ],
      "metadata": {
        "id": "hTRV85qyVIRB"
      }
    },
    {
      "cell_type": "code",
      "source": [
        "from tensorflow.keras.models import Sequential\n",
        "from tensorflow.keras.layers import SimpleRNN, Dense"
      ],
      "metadata": {
        "id": "qCSp1yi4VEC5"
      },
      "execution_count": 8,
      "outputs": []
    },
    {
      "cell_type": "code",
      "source": [
        "!pip install keras_tuner"
      ],
      "metadata": {
        "colab": {
          "base_uri": "https://localhost:8080/"
        },
        "id": "kKJkUpbjeeTa",
        "outputId": "6c4110c4-a9a8-4c11-d62e-0c8b2169d906"
      },
      "execution_count": 9,
      "outputs": [
        {
          "output_type": "stream",
          "name": "stdout",
          "text": [
            "Collecting keras_tuner\n",
            "  Downloading keras_tuner-1.4.6-py3-none-any.whl (128 kB)\n",
            "\u001b[2K     \u001b[90m━━━━━━━━━━━━━━━━━━━━━━━━━━━━━━━━━━━━━━━━\u001b[0m \u001b[32m128.9/128.9 kB\u001b[0m \u001b[31m1.4 MB/s\u001b[0m eta \u001b[36m0:00:00\u001b[0m\n",
            "\u001b[?25hRequirement already satisfied: keras in /usr/local/lib/python3.10/dist-packages (from keras_tuner) (2.15.0)\n",
            "Requirement already satisfied: packaging in /usr/local/lib/python3.10/dist-packages (from keras_tuner) (23.2)\n",
            "Requirement already satisfied: requests in /usr/local/lib/python3.10/dist-packages (from keras_tuner) (2.31.0)\n",
            "Collecting kt-legacy (from keras_tuner)\n",
            "  Downloading kt_legacy-1.0.5-py3-none-any.whl (9.6 kB)\n",
            "Requirement already satisfied: charset-normalizer<4,>=2 in /usr/local/lib/python3.10/dist-packages (from requests->keras_tuner) (3.3.2)\n",
            "Requirement already satisfied: idna<4,>=2.5 in /usr/local/lib/python3.10/dist-packages (from requests->keras_tuner) (3.6)\n",
            "Requirement already satisfied: urllib3<3,>=1.21.1 in /usr/local/lib/python3.10/dist-packages (from requests->keras_tuner) (2.0.7)\n",
            "Requirement already satisfied: certifi>=2017.4.17 in /usr/local/lib/python3.10/dist-packages (from requests->keras_tuner) (2023.11.17)\n",
            "Installing collected packages: kt-legacy, keras_tuner\n",
            "Successfully installed keras_tuner-1.4.6 kt-legacy-1.0.5\n"
          ]
        }
      ]
    },
    {
      "cell_type": "code",
      "source": [
        "import keras_tuner as kt"
      ],
      "metadata": {
        "id": "4wKFEIavh1aG"
      },
      "execution_count": 10,
      "outputs": []
    },
    {
      "cell_type": "code",
      "source": [
        "def model_builder(hp):\n",
        "  model = Sequential()\n",
        "  model.add(SimpleRNN(units=hp.Int(\"units\", min_value=10, max_value=200, step=10),return_sequences=True))\n",
        "  model.add(SimpleRNN(units=hp.Int(\"units\", min_value=10, max_value=200, step=10),return_sequences=True))\n",
        "  model.add(SimpleRNN(units=hp.Int(\"units\", min_value=10, max_value=200, step=10)))\n",
        "  model.add(Dense(2))\n",
        "  model.compile(optimizer=\"adam\",loss=\"mean_absolute_error\")\n",
        "  return model"
      ],
      "metadata": {
        "id": "OI8_SHH5h7By"
      },
      "execution_count": null,
      "outputs": []
    },
    {
      "cell_type": "code",
      "source": [
        "tuner = kt.Hyperband(model_builder,\n",
        "                     objective='val_loss',\n",
        "                     max_epochs=10,\n",
        "                     factor=3,\n",
        "                     directory='my_dir',\n",
        "                     project_name='intro_to_kt')"
      ],
      "metadata": {
        "colab": {
          "base_uri": "https://localhost:8080/"
        },
        "id": "5mKYa5Qcpahx",
        "outputId": "6c2a9896-e0fb-46f9-a5e2-f535e3ee4bdc"
      },
      "execution_count": null,
      "outputs": [
        {
          "output_type": "stream",
          "name": "stdout",
          "text": [
            "Reloading Tuner from my_dir/intro_to_kt/tuner0.json\n"
          ]
        }
      ]
    },
    {
      "cell_type": "code",
      "source": [
        "stop_early = tf.keras.callbacks.EarlyStopping(monitor='val_loss', patience=5)"
      ],
      "metadata": {
        "id": "KFbyFq0k-dwR"
      },
      "execution_count": 15,
      "outputs": []
    },
    {
      "cell_type": "code",
      "source": [
        "tuner.search(X_train, y_train, epochs=50, validation_data=(X_val, y_val), callbacks=[stop_early])"
      ],
      "metadata": {
        "colab": {
          "base_uri": "https://localhost:8080/"
        },
        "id": "b4E5lmzY-FwN",
        "outputId": "d9d9f53a-1103-49d6-f087-edf602780ddc"
      },
      "execution_count": null,
      "outputs": [
        {
          "output_type": "stream",
          "name": "stdout",
          "text": [
            "Trial 23 Complete [00h 00m 44s]\n",
            "val_loss: 0.07167913764715195\n",
            "\n",
            "Best val_loss So Far: 0.020663194358348846\n",
            "Total elapsed time: 00h 11m 29s\n"
          ]
        }
      ]
    },
    {
      "cell_type": "code",
      "source": [
        "# Get the optimal hyperparameters\n",
        "best_hps=tuner.get_best_hyperparameters(num_trials=1)[0]\n",
        "\n",
        "print(f\"\"\"\n",
        "The hyperparameter search is complete. The optimal number of units is {best_hps.get('units')}\"\"\")"
      ],
      "metadata": {
        "colab": {
          "base_uri": "https://localhost:8080/"
        },
        "id": "6OT3RIB0-sBK",
        "outputId": "2edc84c9-eae1-48d9-db86-54e21d4d2993"
      },
      "execution_count": null,
      "outputs": [
        {
          "output_type": "stream",
          "name": "stdout",
          "text": [
            "\n",
            "The hyperparameter search is complete. The optimal number of units is 200\n"
          ]
        }
      ]
    },
    {
      "cell_type": "code",
      "source": [
        "# Build the model with the optimal hyperparameters and train it on the data for 50 epochs\n",
        "model = tuner.hypermodel.build(best_hps)\n",
        "history = model.fit(X_train, y_train, epochs=50, validation_data=(X_val,y_val))\n",
        "\n",
        "val_loss_per_epoch = history.history['val_loss']\n",
        "best_epoch = val_loss_per_epoch.index(min(val_loss_per_epoch)) + 1\n",
        "print('Best epoch: %d' % (best_epoch,))"
      ],
      "metadata": {
        "colab": {
          "base_uri": "https://localhost:8080/"
        },
        "id": "LD-SwMqYBkqa",
        "outputId": "dc7b8475-3a68-42e3-89db-700506f70b60"
      },
      "execution_count": null,
      "outputs": [
        {
          "output_type": "stream",
          "name": "stdout",
          "text": [
            "Epoch 1/50\n",
            "82/82 [==============================] - 5s 23ms/step - loss: 0.1660 - val_loss: 0.3473\n",
            "Epoch 2/50\n",
            "82/82 [==============================] - 2s 19ms/step - loss: 0.0223 - val_loss: 0.1714\n",
            "Epoch 3/50\n",
            "82/82 [==============================] - 2s 20ms/step - loss: 0.0200 - val_loss: 0.1354\n",
            "Epoch 4/50\n",
            "82/82 [==============================] - 2s 19ms/step - loss: 0.0148 - val_loss: 0.0714\n",
            "Epoch 5/50\n",
            "82/82 [==============================] - 1s 18ms/step - loss: 0.0147 - val_loss: 0.0528\n",
            "Epoch 6/50\n",
            "82/82 [==============================] - 3s 36ms/step - loss: 0.0139 - val_loss: 0.0644\n",
            "Epoch 7/50\n",
            "82/82 [==============================] - 2s 20ms/step - loss: 0.0125 - val_loss: 0.1130\n",
            "Epoch 8/50\n",
            "82/82 [==============================] - 2s 20ms/step - loss: 0.0138 - val_loss: 0.0765\n",
            "Epoch 9/50\n",
            "82/82 [==============================] - 2s 20ms/step - loss: 0.0102 - val_loss: 0.0679\n",
            "Epoch 10/50\n",
            "82/82 [==============================] - 2s 19ms/step - loss: 0.0095 - val_loss: 0.1279\n",
            "Epoch 11/50\n",
            "82/82 [==============================] - 2s 20ms/step - loss: 0.0099 - val_loss: 0.1055\n",
            "Epoch 12/50\n",
            "82/82 [==============================] - 2s 21ms/step - loss: 0.0133 - val_loss: 0.0887\n",
            "Epoch 13/50\n",
            "82/82 [==============================] - 3s 34ms/step - loss: 0.0091 - val_loss: 0.0540\n",
            "Epoch 14/50\n",
            "82/82 [==============================] - 2s 24ms/step - loss: 0.0103 - val_loss: 0.0864\n",
            "Epoch 15/50\n",
            "82/82 [==============================] - 2s 20ms/step - loss: 0.0093 - val_loss: 0.0703\n",
            "Epoch 16/50\n",
            "82/82 [==============================] - 2s 19ms/step - loss: 0.0092 - val_loss: 0.0446\n",
            "Epoch 17/50\n",
            "82/82 [==============================] - 2s 21ms/step - loss: 0.0101 - val_loss: 0.0910\n",
            "Epoch 18/50\n",
            "82/82 [==============================] - 2s 20ms/step - loss: 0.0097 - val_loss: 0.0596\n",
            "Epoch 19/50\n",
            "82/82 [==============================] - 2s 20ms/step - loss: 0.0095 - val_loss: 0.0714\n",
            "Epoch 20/50\n",
            "82/82 [==============================] - 3s 34ms/step - loss: 0.0099 - val_loss: 0.0386\n",
            "Epoch 21/50\n",
            "82/82 [==============================] - 2s 23ms/step - loss: 0.0116 - val_loss: 0.0654\n",
            "Epoch 22/50\n",
            "82/82 [==============================] - 2s 20ms/step - loss: 0.0086 - val_loss: 0.0720\n",
            "Epoch 23/50\n",
            "82/82 [==============================] - 2s 19ms/step - loss: 0.0086 - val_loss: 0.0514\n",
            "Epoch 24/50\n",
            "82/82 [==============================] - 2s 20ms/step - loss: 0.0089 - val_loss: 0.0688\n",
            "Epoch 25/50\n",
            "82/82 [==============================] - 2s 21ms/step - loss: 0.0093 - val_loss: 0.0612\n",
            "Epoch 26/50\n",
            "82/82 [==============================] - 3s 38ms/step - loss: 0.0088 - val_loss: 0.0447\n",
            "Epoch 27/50\n",
            "82/82 [==============================] - 3s 40ms/step - loss: 0.0109 - val_loss: 0.0853\n",
            "Epoch 28/50\n",
            "82/82 [==============================] - 2s 20ms/step - loss: 0.0114 - val_loss: 0.0902\n",
            "Epoch 29/50\n",
            "82/82 [==============================] - 2s 21ms/step - loss: 0.0110 - val_loss: 0.0857\n",
            "Epoch 30/50\n",
            "82/82 [==============================] - 2s 19ms/step - loss: 0.0103 - val_loss: 0.0973\n",
            "Epoch 31/50\n",
            "82/82 [==============================] - 2s 20ms/step - loss: 0.0100 - val_loss: 0.0824\n",
            "Epoch 32/50\n",
            "82/82 [==============================] - 2s 20ms/step - loss: 0.0123 - val_loss: 0.0600\n",
            "Epoch 33/50\n",
            "82/82 [==============================] - 2s 28ms/step - loss: 0.0090 - val_loss: 0.0696\n",
            "Epoch 34/50\n",
            "82/82 [==============================] - 3s 31ms/step - loss: 0.0085 - val_loss: 0.0827\n",
            "Epoch 35/50\n",
            "82/82 [==============================] - 3s 32ms/step - loss: 0.0102 - val_loss: 0.0441\n",
            "Epoch 36/50\n",
            "82/82 [==============================] - 3s 35ms/step - loss: 0.0097 - val_loss: 0.0788\n",
            "Epoch 37/50\n",
            "82/82 [==============================] - 2s 19ms/step - loss: 0.0090 - val_loss: 0.0859\n",
            "Epoch 38/50\n",
            "82/82 [==============================] - 2s 20ms/step - loss: 0.0096 - val_loss: 0.1150\n",
            "Epoch 39/50\n",
            "82/82 [==============================] - 3s 32ms/step - loss: 0.0102 - val_loss: 0.0939\n",
            "Epoch 40/50\n",
            "82/82 [==============================] - 2s 25ms/step - loss: 0.0089 - val_loss: 0.0441\n",
            "Epoch 41/50\n",
            "82/82 [==============================] - 2s 21ms/step - loss: 0.0109 - val_loss: 0.1695\n",
            "Epoch 42/50\n",
            "82/82 [==============================] - 2s 20ms/step - loss: 0.0105 - val_loss: 0.1071\n",
            "Epoch 43/50\n",
            "82/82 [==============================] - 2s 19ms/step - loss: 0.0086 - val_loss: 0.0716\n",
            "Epoch 44/50\n",
            "82/82 [==============================] - 2s 20ms/step - loss: 0.0090 - val_loss: 0.1237\n",
            "Epoch 45/50\n",
            "82/82 [==============================] - 2s 20ms/step - loss: 0.0106 - val_loss: 0.0536\n",
            "Epoch 46/50\n",
            "82/82 [==============================] - 2s 26ms/step - loss: 0.0092 - val_loss: 0.0950\n",
            "Epoch 47/50\n",
            "82/82 [==============================] - 2s 30ms/step - loss: 0.0085 - val_loss: 0.1203\n",
            "Epoch 48/50\n",
            "82/82 [==============================] - 2s 19ms/step - loss: 0.0107 - val_loss: 0.0549\n",
            "Epoch 49/50\n",
            "82/82 [==============================] - 2s 20ms/step - loss: 0.0114 - val_loss: 0.1162\n",
            "Epoch 50/50\n",
            "82/82 [==============================] - 2s 20ms/step - loss: 0.0099 - val_loss: 0.0804\n",
            "Best epoch: 20\n"
          ]
        }
      ]
    },
    {
      "cell_type": "code",
      "source": [
        "hypermodel = tuner.hypermodel.build(best_hps)\n",
        "\n",
        "# Retrain the model\n",
        "history_rnn = hypermodel.fit(X_train, y_train, epochs=best_epoch, validation_data=(X_val,y_val))"
      ],
      "metadata": {
        "colab": {
          "base_uri": "https://localhost:8080/"
        },
        "id": "DUfnCJ6RB3Dl",
        "outputId": "ee93bc96-56e5-4417-a24f-ca243210bf78"
      },
      "execution_count": null,
      "outputs": [
        {
          "output_type": "stream",
          "name": "stdout",
          "text": [
            "Epoch 1/20\n",
            "82/82 [==============================] - 5s 24ms/step - loss: 0.1316 - val_loss: 0.3404\n",
            "Epoch 2/20\n",
            "82/82 [==============================] - 2s 23ms/step - loss: 0.0231 - val_loss: 0.2057\n",
            "Epoch 3/20\n",
            "82/82 [==============================] - 4s 48ms/step - loss: 0.0170 - val_loss: 0.1527\n",
            "Epoch 4/20\n",
            "82/82 [==============================] - 2s 19ms/step - loss: 0.0153 - val_loss: 0.0866\n",
            "Epoch 5/20\n",
            "82/82 [==============================] - 3s 31ms/step - loss: 0.0122 - val_loss: 0.1077\n",
            "Epoch 6/20\n",
            "82/82 [==============================] - 2s 28ms/step - loss: 0.0123 - val_loss: 0.1015\n",
            "Epoch 7/20\n",
            "82/82 [==============================] - 2s 20ms/step - loss: 0.0120 - val_loss: 0.1411\n",
            "Epoch 8/20\n",
            "82/82 [==============================] - 2s 28ms/step - loss: 0.0101 - val_loss: 0.0822\n",
            "Epoch 9/20\n",
            "82/82 [==============================] - 3s 40ms/step - loss: 0.0104 - val_loss: 0.0594\n",
            "Epoch 10/20\n",
            "82/82 [==============================] - 2s 27ms/step - loss: 0.0117 - val_loss: 0.0617\n",
            "Epoch 11/20\n",
            "82/82 [==============================] - 3s 31ms/step - loss: 0.0097 - val_loss: 0.0491\n",
            "Epoch 12/20\n",
            "82/82 [==============================] - 2s 23ms/step - loss: 0.0094 - val_loss: 0.0665\n",
            "Epoch 13/20\n",
            "82/82 [==============================] - 2s 24ms/step - loss: 0.0103 - val_loss: 0.1028\n",
            "Epoch 14/20\n",
            "82/82 [==============================] - 4s 45ms/step - loss: 0.0107 - val_loss: 0.0919\n",
            "Epoch 15/20\n",
            "82/82 [==============================] - 4s 44ms/step - loss: 0.0101 - val_loss: 0.1100\n",
            "Epoch 16/20\n",
            "82/82 [==============================] - 2s 19ms/step - loss: 0.0113 - val_loss: 0.0705\n",
            "Epoch 17/20\n",
            "82/82 [==============================] - 2s 19ms/step - loss: 0.0092 - val_loss: 0.0473\n",
            "Epoch 18/20\n",
            "82/82 [==============================] - 2s 20ms/step - loss: 0.0099 - val_loss: 0.0561\n",
            "Epoch 19/20\n",
            "82/82 [==============================] - 2s 21ms/step - loss: 0.0111 - val_loss: 0.1097\n",
            "Epoch 20/20\n",
            "82/82 [==============================] - 4s 53ms/step - loss: 0.0093 - val_loss: 0.0705\n"
          ]
        }
      ]
    },
    {
      "cell_type": "markdown",
      "source": [
        "# LSTM"
      ],
      "metadata": {
        "id": "X03OWjpDEITt"
      }
    },
    {
      "cell_type": "code",
      "source": [
        "from tensorflow.keras.layers import LSTM"
      ],
      "metadata": {
        "id": "BMwHJpt7Flld"
      },
      "execution_count": 23,
      "outputs": []
    },
    {
      "cell_type": "code",
      "source": [
        "def model_builder_lstm(hp):\n",
        "  model = Sequential()\n",
        "  model.add(LSTM(units=hp.Int(\"units\", min_value=10, max_value=200, step=10),return_sequences=True))\n",
        "  model.add(LSTM(units=hp.Int(\"units\", min_value=10, max_value=200, step=10),return_sequences=True))\n",
        "  model.add(LSTM(units=hp.Int(\"units\", min_value=10, max_value=200, step=10)))\n",
        "  model.add(Dense(2))\n",
        "  model.compile(optimizer=\"adam\",loss=\"mean_absolute_error\")\n",
        "  return model"
      ],
      "metadata": {
        "id": "mNU9fojvD72G"
      },
      "execution_count": null,
      "outputs": []
    },
    {
      "cell_type": "code",
      "source": [
        "tuner_lstm = kt.Hyperband(model_builder_lstm,\n",
        "                     objective='val_loss',\n",
        "                     max_epochs=10,\n",
        "                     factor=3,\n",
        "                     directory='my_dir',\n",
        "                     project_name='lstm')"
      ],
      "metadata": {
        "id": "N8eGeMh-Gzsz"
      },
      "execution_count": null,
      "outputs": []
    },
    {
      "cell_type": "code",
      "source": [
        "tuner_lstm.search(X_train, y_train, epochs=50, validation_data=(X_val, y_val), callbacks=[stop_early])"
      ],
      "metadata": {
        "colab": {
          "base_uri": "https://localhost:8080/"
        },
        "id": "BCYw_UWJG7yx",
        "outputId": "04b45ce0-3405-4609-b81c-e8b45e5ee2ac"
      },
      "execution_count": null,
      "outputs": [
        {
          "output_type": "stream",
          "name": "stdout",
          "text": [
            "Trial 28 Complete [00h 00m 14s]\n",
            "val_loss: 0.10210084170103073\n",
            "\n",
            "Best val_loss So Far: 0.06305500119924545\n",
            "Total elapsed time: 00h 05m 27s\n"
          ]
        }
      ]
    },
    {
      "cell_type": "code",
      "source": [
        "# Get the optimal hyperparameters\n",
        "best_hps=tuner_lstm.get_best_hyperparameters(num_trials=1)[0]\n",
        "\n",
        "print(f\"\"\"\n",
        "The hyperparameter search is complete. The optimal number of units is {best_hps.get('units')}\"\"\")"
      ],
      "metadata": {
        "colab": {
          "base_uri": "https://localhost:8080/"
        },
        "id": "kSStqwuWHQP5",
        "outputId": "5cc9b854-8aab-4d9d-9322-52c6ca614a5f"
      },
      "execution_count": null,
      "outputs": [
        {
          "output_type": "stream",
          "name": "stdout",
          "text": [
            "\n",
            "The hyperparameter search is complete. The optimal number of units is 200\n"
          ]
        }
      ]
    },
    {
      "cell_type": "code",
      "source": [
        "# Build the model with the optimal hyperparameters and train it on the data for 50 epochs\n",
        "model = tuner_lstm.hypermodel.build(best_hps)\n",
        "history = model.fit(X_train, y_train, epochs=50, validation_data=(X_val,y_val))\n",
        "\n",
        "val_loss_per_epoch = history.history['val_loss']\n",
        "best_epoch = val_loss_per_epoch.index(min(val_loss_per_epoch)) + 1\n",
        "print('Best epoch: %d' % (best_epoch,))"
      ],
      "metadata": {
        "colab": {
          "base_uri": "https://localhost:8080/"
        },
        "id": "w4Y-6wOGJVaz",
        "outputId": "33ccd7e1-e354-4c2f-ccfd-cbd66123c5c2"
      },
      "execution_count": null,
      "outputs": [
        {
          "output_type": "stream",
          "name": "stdout",
          "text": [
            "Epoch 1/50\n",
            "82/82 [==============================] - 8s 20ms/step - loss: 0.0472 - val_loss: 0.2745\n",
            "Epoch 2/50\n",
            "82/82 [==============================] - 1s 8ms/step - loss: 0.0192 - val_loss: 0.1185\n",
            "Epoch 3/50\n",
            "82/82 [==============================] - 1s 8ms/step - loss: 0.0139 - val_loss: 0.1065\n",
            "Epoch 4/50\n",
            "82/82 [==============================] - 1s 8ms/step - loss: 0.0190 - val_loss: 0.0962\n",
            "Epoch 5/50\n",
            "82/82 [==============================] - 1s 8ms/step - loss: 0.0144 - val_loss: 0.1071\n",
            "Epoch 6/50\n",
            "82/82 [==============================] - 1s 9ms/step - loss: 0.0144 - val_loss: 0.1064\n",
            "Epoch 7/50\n",
            "82/82 [==============================] - 1s 8ms/step - loss: 0.0137 - val_loss: 0.1031\n",
            "Epoch 8/50\n",
            "82/82 [==============================] - 1s 8ms/step - loss: 0.0177 - val_loss: 0.1004\n",
            "Epoch 9/50\n",
            "82/82 [==============================] - 1s 8ms/step - loss: 0.0149 - val_loss: 0.0837\n",
            "Epoch 10/50\n",
            "82/82 [==============================] - 1s 9ms/step - loss: 0.0135 - val_loss: 0.0784\n",
            "Epoch 11/50\n",
            "82/82 [==============================] - 1s 9ms/step - loss: 0.0135 - val_loss: 0.0820\n",
            "Epoch 12/50\n",
            "82/82 [==============================] - 1s 12ms/step - loss: 0.0140 - val_loss: 0.1550\n",
            "Epoch 13/50\n",
            "82/82 [==============================] - 1s 11ms/step - loss: 0.0131 - val_loss: 0.0659\n",
            "Epoch 14/50\n",
            "82/82 [==============================] - 1s 11ms/step - loss: 0.0148 - val_loss: 0.0950\n",
            "Epoch 15/50\n",
            "82/82 [==============================] - 1s 9ms/step - loss: 0.0120 - val_loss: 0.0844\n",
            "Epoch 16/50\n",
            "82/82 [==============================] - 1s 8ms/step - loss: 0.0130 - val_loss: 0.1626\n",
            "Epoch 17/50\n",
            "82/82 [==============================] - 1s 9ms/step - loss: 0.0126 - val_loss: 0.0913\n",
            "Epoch 18/50\n",
            "82/82 [==============================] - 1s 8ms/step - loss: 0.0132 - val_loss: 0.0879\n",
            "Epoch 19/50\n",
            "82/82 [==============================] - 1s 8ms/step - loss: 0.0118 - val_loss: 0.1051\n",
            "Epoch 20/50\n",
            "82/82 [==============================] - 1s 8ms/step - loss: 0.0116 - val_loss: 0.0958\n",
            "Epoch 21/50\n",
            "82/82 [==============================] - 1s 8ms/step - loss: 0.0124 - val_loss: 0.0820\n",
            "Epoch 22/50\n",
            "82/82 [==============================] - 1s 8ms/step - loss: 0.0122 - val_loss: 0.1129\n",
            "Epoch 23/50\n",
            "82/82 [==============================] - 1s 8ms/step - loss: 0.0132 - val_loss: 0.0751\n",
            "Epoch 24/50\n",
            "82/82 [==============================] - 1s 8ms/step - loss: 0.0128 - val_loss: 0.0949\n",
            "Epoch 25/50\n",
            "82/82 [==============================] - 1s 8ms/step - loss: 0.0109 - val_loss: 0.0787\n",
            "Epoch 26/50\n",
            "82/82 [==============================] - 1s 8ms/step - loss: 0.0106 - val_loss: 0.0878\n",
            "Epoch 27/50\n",
            "82/82 [==============================] - 1s 8ms/step - loss: 0.0103 - val_loss: 0.0561\n",
            "Epoch 28/50\n",
            "82/82 [==============================] - 1s 8ms/step - loss: 0.0115 - val_loss: 0.0993\n",
            "Epoch 29/50\n",
            "82/82 [==============================] - 1s 9ms/step - loss: 0.0115 - val_loss: 0.0653\n",
            "Epoch 30/50\n",
            "82/82 [==============================] - 1s 11ms/step - loss: 0.0099 - val_loss: 0.1045\n",
            "Epoch 31/50\n",
            "82/82 [==============================] - 1s 11ms/step - loss: 0.0100 - val_loss: 0.0457\n",
            "Epoch 32/50\n",
            "82/82 [==============================] - 1s 11ms/step - loss: 0.0095 - val_loss: 0.0394\n",
            "Epoch 33/50\n",
            "82/82 [==============================] - 1s 9ms/step - loss: 0.0097 - val_loss: 0.0365\n",
            "Epoch 34/50\n",
            "82/82 [==============================] - 1s 9ms/step - loss: 0.0086 - val_loss: 0.0592\n",
            "Epoch 35/50\n",
            "82/82 [==============================] - 1s 8ms/step - loss: 0.0089 - val_loss: 0.0433\n",
            "Epoch 36/50\n",
            "82/82 [==============================] - 1s 8ms/step - loss: 0.0096 - val_loss: 0.0521\n",
            "Epoch 37/50\n",
            "82/82 [==============================] - 1s 8ms/step - loss: 0.0095 - val_loss: 0.0523\n",
            "Epoch 38/50\n",
            "82/82 [==============================] - 1s 8ms/step - loss: 0.0086 - val_loss: 0.0654\n",
            "Epoch 39/50\n",
            "82/82 [==============================] - 1s 8ms/step - loss: 0.0087 - val_loss: 0.0364\n",
            "Epoch 40/50\n",
            "82/82 [==============================] - 1s 8ms/step - loss: 0.0109 - val_loss: 0.0690\n",
            "Epoch 41/50\n",
            "82/82 [==============================] - 1s 8ms/step - loss: 0.0090 - val_loss: 0.0587\n",
            "Epoch 42/50\n",
            "82/82 [==============================] - 1s 8ms/step - loss: 0.0082 - val_loss: 0.0422\n",
            "Epoch 43/50\n",
            "82/82 [==============================] - 1s 8ms/step - loss: 0.0083 - val_loss: 0.0399\n",
            "Epoch 44/50\n",
            "82/82 [==============================] - 1s 8ms/step - loss: 0.0082 - val_loss: 0.0724\n",
            "Epoch 45/50\n",
            "82/82 [==============================] - 1s 9ms/step - loss: 0.0097 - val_loss: 0.0526\n",
            "Epoch 46/50\n",
            "82/82 [==============================] - 1s 8ms/step - loss: 0.0083 - val_loss: 0.0652\n",
            "Epoch 47/50\n",
            "82/82 [==============================] - 1s 10ms/step - loss: 0.0097 - val_loss: 0.0567\n",
            "Epoch 48/50\n",
            "82/82 [==============================] - 1s 12ms/step - loss: 0.0085 - val_loss: 0.0700\n",
            "Epoch 49/50\n",
            "82/82 [==============================] - 1s 11ms/step - loss: 0.0085 - val_loss: 0.0611\n",
            "Epoch 50/50\n",
            "82/82 [==============================] - 1s 10ms/step - loss: 0.0083 - val_loss: 0.0981\n",
            "Best epoch: 39\n"
          ]
        }
      ]
    },
    {
      "cell_type": "code",
      "source": [
        "hypermodel = tuner_lstm.hypermodel.build(best_hps)\n",
        "\n",
        "# Retrain the model\n",
        "history_lstm = hypermodel.fit(X_train, y_train, epochs=best_epoch, validation_data=(X_val,y_val))"
      ],
      "metadata": {
        "colab": {
          "base_uri": "https://localhost:8080/"
        },
        "id": "EP9g1LtkKvJv",
        "outputId": "667e3cde-478c-43b3-b857-ad4feb6beb64"
      },
      "execution_count": null,
      "outputs": [
        {
          "output_type": "stream",
          "name": "stdout",
          "text": [
            "Epoch 1/39\n",
            "82/82 [==============================] - 7s 19ms/step - loss: 0.0470 - val_loss: 0.0838\n",
            "Epoch 2/39\n",
            "82/82 [==============================] - 1s 8ms/step - loss: 0.0164 - val_loss: 0.0733\n",
            "Epoch 3/39\n",
            "82/82 [==============================] - 1s 8ms/step - loss: 0.0167 - val_loss: 0.1136\n",
            "Epoch 4/39\n",
            "82/82 [==============================] - 1s 8ms/step - loss: 0.0151 - val_loss: 0.1235\n",
            "Epoch 5/39\n",
            "82/82 [==============================] - 1s 8ms/step - loss: 0.0133 - val_loss: 0.1086\n",
            "Epoch 6/39\n",
            "82/82 [==============================] - 1s 10ms/step - loss: 0.0146 - val_loss: 0.0863\n",
            "Epoch 7/39\n",
            "82/82 [==============================] - 1s 10ms/step - loss: 0.0142 - val_loss: 0.0793\n",
            "Epoch 8/39\n",
            "82/82 [==============================] - 1s 12ms/step - loss: 0.0136 - val_loss: 0.1061\n",
            "Epoch 9/39\n",
            "82/82 [==============================] - 1s 9ms/step - loss: 0.0134 - val_loss: 0.1020\n",
            "Epoch 10/39\n",
            "82/82 [==============================] - 1s 9ms/step - loss: 0.0135 - val_loss: 0.0773\n",
            "Epoch 11/39\n",
            "82/82 [==============================] - 1s 8ms/step - loss: 0.0179 - val_loss: 0.1310\n",
            "Epoch 12/39\n",
            "82/82 [==============================] - 1s 8ms/step - loss: 0.0131 - val_loss: 0.1134\n",
            "Epoch 13/39\n",
            "82/82 [==============================] - 1s 8ms/step - loss: 0.0132 - val_loss: 0.1094\n",
            "Epoch 14/39\n",
            "82/82 [==============================] - 1s 8ms/step - loss: 0.0139 - val_loss: 0.1022\n",
            "Epoch 15/39\n",
            "82/82 [==============================] - 1s 8ms/step - loss: 0.0122 - val_loss: 0.0823\n",
            "Epoch 16/39\n",
            "82/82 [==============================] - 1s 8ms/step - loss: 0.0130 - val_loss: 0.1119\n",
            "Epoch 17/39\n",
            "82/82 [==============================] - 1s 9ms/step - loss: 0.0140 - val_loss: 0.1035\n",
            "Epoch 18/39\n",
            "82/82 [==============================] - 1s 8ms/step - loss: 0.0114 - val_loss: 0.1025\n",
            "Epoch 19/39\n",
            "82/82 [==============================] - 1s 8ms/step - loss: 0.0125 - val_loss: 0.1312\n",
            "Epoch 20/39\n",
            "82/82 [==============================] - 1s 8ms/step - loss: 0.0127 - val_loss: 0.0863\n",
            "Epoch 21/39\n",
            "82/82 [==============================] - 1s 8ms/step - loss: 0.0121 - val_loss: 0.1224\n",
            "Epoch 22/39\n",
            "82/82 [==============================] - 1s 8ms/step - loss: 0.0127 - val_loss: 0.0984\n",
            "Epoch 23/39\n",
            "82/82 [==============================] - 1s 9ms/step - loss: 0.0114 - val_loss: 0.1039\n",
            "Epoch 24/39\n",
            "82/82 [==============================] - 1s 11ms/step - loss: 0.0124 - val_loss: 0.0496\n",
            "Epoch 25/39\n",
            "82/82 [==============================] - 1s 11ms/step - loss: 0.0124 - val_loss: 0.1015\n",
            "Epoch 26/39\n",
            "82/82 [==============================] - 1s 11ms/step - loss: 0.0128 - val_loss: 0.0806\n",
            "Epoch 27/39\n",
            "82/82 [==============================] - 1s 9ms/step - loss: 0.0114 - val_loss: 0.0777\n",
            "Epoch 28/39\n",
            "82/82 [==============================] - 1s 8ms/step - loss: 0.0109 - val_loss: 0.0970\n",
            "Epoch 29/39\n",
            "82/82 [==============================] - 1s 8ms/step - loss: 0.0114 - val_loss: 0.0645\n",
            "Epoch 30/39\n",
            "82/82 [==============================] - 1s 8ms/step - loss: 0.0123 - val_loss: 0.1107\n",
            "Epoch 31/39\n",
            "82/82 [==============================] - 1s 8ms/step - loss: 0.0114 - val_loss: 0.0455\n",
            "Epoch 32/39\n",
            "82/82 [==============================] - 1s 8ms/step - loss: 0.0101 - val_loss: 0.0626\n",
            "Epoch 33/39\n",
            "82/82 [==============================] - 1s 8ms/step - loss: 0.0092 - val_loss: 0.0533\n",
            "Epoch 34/39\n",
            "82/82 [==============================] - 1s 8ms/step - loss: 0.0100 - val_loss: 0.0374\n",
            "Epoch 35/39\n",
            "82/82 [==============================] - 1s 8ms/step - loss: 0.0087 - val_loss: 0.0386\n",
            "Epoch 36/39\n",
            "82/82 [==============================] - 1s 9ms/step - loss: 0.0094 - val_loss: 0.0422\n",
            "Epoch 37/39\n",
            "82/82 [==============================] - 1s 8ms/step - loss: 0.0086 - val_loss: 0.0454\n",
            "Epoch 38/39\n",
            "82/82 [==============================] - 1s 8ms/step - loss: 0.0101 - val_loss: 0.0411\n",
            "Epoch 39/39\n",
            "82/82 [==============================] - 1s 8ms/step - loss: 0.0094 - val_loss: 0.0416\n"
          ]
        }
      ]
    },
    {
      "cell_type": "markdown",
      "source": [
        "# GRU"
      ],
      "metadata": {
        "id": "ETSBJn_KSXYu"
      }
    },
    {
      "cell_type": "code",
      "source": [
        "from tensorflow.keras.layers import GRU"
      ],
      "metadata": {
        "id": "9md1j8FMKzHd"
      },
      "execution_count": 11,
      "outputs": []
    },
    {
      "cell_type": "code",
      "source": [
        "def model_builder_gru(hp):\n",
        "  model = Sequential()\n",
        "  model.add(GRU(units=hp.Int(\"units\", min_value=10, max_value=200, step=10),return_sequences=True))\n",
        "  model.add(GRU(units=hp.Int(\"units\", min_value=10, max_value=200, step=10),return_sequences=True))\n",
        "  model.add(GRU(units=hp.Int(\"units\", min_value=10, max_value=200, step=10)))\n",
        "  model.add(Dense(2))\n",
        "  model.compile(optimizer=\"adam\",loss=\"mean_absolute_error\")\n",
        "  return model"
      ],
      "metadata": {
        "id": "q3JJmeMEjx0m"
      },
      "execution_count": 12,
      "outputs": []
    },
    {
      "cell_type": "code",
      "source": [
        "tuner_gru = kt.Hyperband(model_builder_gru,\n",
        "                     objective='val_loss',\n",
        "                     max_epochs=10,\n",
        "                     factor=3,\n",
        "                     directory='my_dir',\n",
        "                     project_name='gru')"
      ],
      "metadata": {
        "id": "bS37pRoEj6ir"
      },
      "execution_count": 14,
      "outputs": []
    },
    {
      "cell_type": "code",
      "source": [
        "tuner_gru.search(X_train, y_train, epochs=50, validation_data=(X_val, y_val), callbacks=[stop_early])"
      ],
      "metadata": {
        "colab": {
          "base_uri": "https://localhost:8080/"
        },
        "id": "wsmiPMFwkCD1",
        "outputId": "9d6cf50b-49b6-46ce-bf36-fb7fbafbf57c"
      },
      "execution_count": 16,
      "outputs": [
        {
          "output_type": "stream",
          "name": "stdout",
          "text": [
            "Trial 27 Complete [00h 00m 16s]\n",
            "val_loss: 0.19527752697467804\n",
            "\n",
            "Best val_loss So Far: 0.032652389258146286\n",
            "Total elapsed time: 00h 05m 09s\n"
          ]
        }
      ]
    },
    {
      "cell_type": "code",
      "source": [
        "# Get the optimal hyperparameters\n",
        "best_hps = tuner_gru.get_best_hyperparameters(num_trials=1)[0]\n",
        "\n",
        "print(f\"\"\"\n",
        "The hyperparameter search is complete. The optimal number of units is {best_hps.get('units')}\"\"\")"
      ],
      "metadata": {
        "colab": {
          "base_uri": "https://localhost:8080/"
        },
        "id": "8_wHCy8ckPzj",
        "outputId": "ed13bb98-5d87-4002-932b-9001e2cf5396"
      },
      "execution_count": 17,
      "outputs": [
        {
          "output_type": "stream",
          "name": "stdout",
          "text": [
            "\n",
            "The hyperparameter search is complete. The optimal number of units is 190\n"
          ]
        }
      ]
    },
    {
      "cell_type": "code",
      "source": [
        "# Build the model with the optimal hyperparameters and train it on the data for 50 epochs\n",
        "model = tuner_gru.hypermodel.build(best_hps)\n",
        "history = model.fit(X_train, y_train, epochs=50, validation_data=(X_val,y_val))\n",
        "\n",
        "val_loss_per_epoch = history.history['val_loss']\n",
        "best_epoch = val_loss_per_epoch.index(min(val_loss_per_epoch)) + 1\n",
        "print('Best epoch: %d' % (best_epoch,))"
      ],
      "metadata": {
        "colab": {
          "base_uri": "https://localhost:8080/"
        },
        "id": "Nf2v2scQkwCG",
        "outputId": "5587865b-67a5-4822-a660-b9a63def2f45"
      },
      "execution_count": 18,
      "outputs": [
        {
          "output_type": "stream",
          "name": "stdout",
          "text": [
            "Epoch 1/50\n",
            "82/82 [==============================] - 8s 23ms/step - loss: 0.0336 - val_loss: 0.0786\n",
            "Epoch 2/50\n",
            "82/82 [==============================] - 1s 8ms/step - loss: 0.0130 - val_loss: 0.0437\n",
            "Epoch 3/50\n",
            "82/82 [==============================] - 1s 9ms/step - loss: 0.0125 - val_loss: 0.0480\n",
            "Epoch 4/50\n",
            "82/82 [==============================] - 1s 8ms/step - loss: 0.0135 - val_loss: 0.0391\n",
            "Epoch 5/50\n",
            "82/82 [==============================] - 1s 8ms/step - loss: 0.0117 - val_loss: 0.0405\n",
            "Epoch 6/50\n",
            "82/82 [==============================] - 1s 8ms/step - loss: 0.0130 - val_loss: 0.0648\n",
            "Epoch 7/50\n",
            "82/82 [==============================] - 1s 8ms/step - loss: 0.0106 - val_loss: 0.0392\n",
            "Epoch 8/50\n",
            "82/82 [==============================] - 1s 7ms/step - loss: 0.0126 - val_loss: 0.0893\n",
            "Epoch 9/50\n",
            "82/82 [==============================] - 1s 7ms/step - loss: 0.0129 - val_loss: 0.0530\n",
            "Epoch 10/50\n",
            "82/82 [==============================] - 1s 7ms/step - loss: 0.0108 - val_loss: 0.0481\n",
            "Epoch 11/50\n",
            "82/82 [==============================] - 1s 7ms/step - loss: 0.0111 - val_loss: 0.0639\n",
            "Epoch 12/50\n",
            "82/82 [==============================] - 1s 8ms/step - loss: 0.0100 - val_loss: 0.0343\n",
            "Epoch 13/50\n",
            "82/82 [==============================] - 1s 7ms/step - loss: 0.0100 - val_loss: 0.0768\n",
            "Epoch 14/50\n",
            "82/82 [==============================] - 1s 8ms/step - loss: 0.0099 - val_loss: 0.0367\n",
            "Epoch 15/50\n",
            "82/82 [==============================] - 1s 8ms/step - loss: 0.0108 - val_loss: 0.0423\n",
            "Epoch 16/50\n",
            "82/82 [==============================] - 1s 10ms/step - loss: 0.0105 - val_loss: 0.0330\n",
            "Epoch 17/50\n",
            "82/82 [==============================] - 1s 10ms/step - loss: 0.0098 - val_loss: 0.0391\n",
            "Epoch 18/50\n",
            "82/82 [==============================] - 1s 10ms/step - loss: 0.0084 - val_loss: 0.0387\n",
            "Epoch 19/50\n",
            "82/82 [==============================] - 1s 9ms/step - loss: 0.0091 - val_loss: 0.0328\n",
            "Epoch 20/50\n",
            "82/82 [==============================] - 1s 7ms/step - loss: 0.0102 - val_loss: 0.0374\n",
            "Epoch 21/50\n",
            "82/82 [==============================] - 1s 7ms/step - loss: 0.0086 - val_loss: 0.0331\n",
            "Epoch 22/50\n",
            "82/82 [==============================] - 1s 7ms/step - loss: 0.0088 - val_loss: 0.0455\n",
            "Epoch 23/50\n",
            "82/82 [==============================] - 1s 8ms/step - loss: 0.0095 - val_loss: 0.0480\n",
            "Epoch 24/50\n",
            "82/82 [==============================] - 1s 8ms/step - loss: 0.0084 - val_loss: 0.0349\n",
            "Epoch 25/50\n",
            "82/82 [==============================] - 1s 8ms/step - loss: 0.0085 - val_loss: 0.0325\n",
            "Epoch 26/50\n",
            "82/82 [==============================] - 1s 7ms/step - loss: 0.0081 - val_loss: 0.0341\n",
            "Epoch 27/50\n",
            "82/82 [==============================] - 1s 7ms/step - loss: 0.0102 - val_loss: 0.0547\n",
            "Epoch 28/50\n",
            "82/82 [==============================] - 1s 7ms/step - loss: 0.0083 - val_loss: 0.0339\n",
            "Epoch 29/50\n",
            "82/82 [==============================] - 1s 8ms/step - loss: 0.0090 - val_loss: 0.0476\n",
            "Epoch 30/50\n",
            "82/82 [==============================] - 1s 8ms/step - loss: 0.0104 - val_loss: 0.0326\n",
            "Epoch 31/50\n",
            "82/82 [==============================] - 1s 8ms/step - loss: 0.0085 - val_loss: 0.0313\n",
            "Epoch 32/50\n",
            "82/82 [==============================] - 1s 7ms/step - loss: 0.0088 - val_loss: 0.0426\n",
            "Epoch 33/50\n",
            "82/82 [==============================] - 1s 8ms/step - loss: 0.0094 - val_loss: 0.0335\n",
            "Epoch 34/50\n",
            "82/82 [==============================] - 1s 7ms/step - loss: 0.0089 - val_loss: 0.0333\n",
            "Epoch 35/50\n",
            "82/82 [==============================] - 1s 8ms/step - loss: 0.0090 - val_loss: 0.0394\n",
            "Epoch 36/50\n",
            "82/82 [==============================] - 1s 11ms/step - loss: 0.0082 - val_loss: 0.0350\n",
            "Epoch 37/50\n",
            "82/82 [==============================] - 1s 11ms/step - loss: 0.0086 - val_loss: 0.0323\n",
            "Epoch 38/50\n",
            "82/82 [==============================] - 1s 11ms/step - loss: 0.0090 - val_loss: 0.0448\n",
            "Epoch 39/50\n",
            "82/82 [==============================] - 1s 8ms/step - loss: 0.0090 - val_loss: 0.0360\n",
            "Epoch 40/50\n",
            "82/82 [==============================] - 1s 7ms/step - loss: 0.0082 - val_loss: 0.0329\n",
            "Epoch 41/50\n",
            "82/82 [==============================] - 1s 8ms/step - loss: 0.0086 - val_loss: 0.0358\n",
            "Epoch 42/50\n",
            "82/82 [==============================] - 1s 9ms/step - loss: 0.0084 - val_loss: 0.0325\n",
            "Epoch 43/50\n",
            "82/82 [==============================] - 1s 8ms/step - loss: 0.0087 - val_loss: 0.0318\n",
            "Epoch 44/50\n",
            "82/82 [==============================] - 1s 8ms/step - loss: 0.0084 - val_loss: 0.0314\n",
            "Epoch 45/50\n",
            "82/82 [==============================] - 1s 8ms/step - loss: 0.0090 - val_loss: 0.0387\n",
            "Epoch 46/50\n",
            "82/82 [==============================] - 1s 8ms/step - loss: 0.0082 - val_loss: 0.0317\n",
            "Epoch 47/50\n",
            "82/82 [==============================] - 1s 8ms/step - loss: 0.0104 - val_loss: 0.0335\n",
            "Epoch 48/50\n",
            "82/82 [==============================] - 1s 8ms/step - loss: 0.0084 - val_loss: 0.0496\n",
            "Epoch 49/50\n",
            "82/82 [==============================] - 1s 8ms/step - loss: 0.0089 - val_loss: 0.0314\n",
            "Epoch 50/50\n",
            "82/82 [==============================] - 1s 8ms/step - loss: 0.0083 - val_loss: 0.0456\n",
            "Best epoch: 31\n"
          ]
        }
      ]
    },
    {
      "cell_type": "code",
      "source": [
        "hypermodel = tuner_gru.hypermodel.build(best_hps)\n",
        "\n",
        "# Retrain the model\n",
        "history_gru = hypermodel.fit(X_train, y_train, epochs=best_epoch, validation_data=(X_val,y_val))"
      ],
      "metadata": {
        "colab": {
          "base_uri": "https://localhost:8080/"
        },
        "id": "zSqhiAXulFm8",
        "outputId": "417df83e-770c-4777-f778-efa12744da43"
      },
      "execution_count": 20,
      "outputs": [
        {
          "output_type": "stream",
          "name": "stdout",
          "text": [
            "Epoch 1/31\n",
            "82/82 [==============================] - 7s 18ms/step - loss: 0.0377 - val_loss: 0.0782\n",
            "Epoch 2/31\n",
            "82/82 [==============================] - 1s 7ms/step - loss: 0.0134 - val_loss: 0.0649\n",
            "Epoch 3/31\n",
            "82/82 [==============================] - 1s 8ms/step - loss: 0.0133 - val_loss: 0.0645\n",
            "Epoch 4/31\n",
            "82/82 [==============================] - 1s 7ms/step - loss: 0.0121 - val_loss: 0.0478\n",
            "Epoch 5/31\n",
            "82/82 [==============================] - 1s 7ms/step - loss: 0.0124 - val_loss: 0.0462\n",
            "Epoch 6/31\n",
            "82/82 [==============================] - 1s 7ms/step - loss: 0.0129 - val_loss: 0.0393\n",
            "Epoch 7/31\n",
            "82/82 [==============================] - 1s 15ms/step - loss: 0.0122 - val_loss: 0.0428\n",
            "Epoch 8/31\n",
            "82/82 [==============================] - 1s 16ms/step - loss: 0.0111 - val_loss: 0.0479\n",
            "Epoch 9/31\n",
            "82/82 [==============================] - 1s 10ms/step - loss: 0.0126 - val_loss: 0.0375\n",
            "Epoch 10/31\n",
            "82/82 [==============================] - 1s 9ms/step - loss: 0.0106 - val_loss: 0.0343\n",
            "Epoch 11/31\n",
            "82/82 [==============================] - 1s 7ms/step - loss: 0.0116 - val_loss: 0.0338\n",
            "Epoch 12/31\n",
            "82/82 [==============================] - 1s 7ms/step - loss: 0.0099 - val_loss: 0.0493\n",
            "Epoch 13/31\n",
            "82/82 [==============================] - 1s 7ms/step - loss: 0.0101 - val_loss: 0.0559\n",
            "Epoch 14/31\n",
            "82/82 [==============================] - 1s 7ms/step - loss: 0.0100 - val_loss: 0.0477\n",
            "Epoch 15/31\n",
            "82/82 [==============================] - 1s 7ms/step - loss: 0.0102 - val_loss: 0.0403\n",
            "Epoch 16/31\n",
            "82/82 [==============================] - 1s 7ms/step - loss: 0.0087 - val_loss: 0.0355\n",
            "Epoch 17/31\n",
            "82/82 [==============================] - 1s 7ms/step - loss: 0.0100 - val_loss: 0.0501\n",
            "Epoch 18/31\n",
            "82/82 [==============================] - 1s 7ms/step - loss: 0.0084 - val_loss: 0.0321\n",
            "Epoch 19/31\n",
            "82/82 [==============================] - 1s 7ms/step - loss: 0.0099 - val_loss: 0.0520\n",
            "Epoch 20/31\n",
            "82/82 [==============================] - 1s 7ms/step - loss: 0.0103 - val_loss: 0.0329\n",
            "Epoch 21/31\n",
            "82/82 [==============================] - 1s 8ms/step - loss: 0.0090 - val_loss: 0.0396\n",
            "Epoch 22/31\n",
            "82/82 [==============================] - 1s 7ms/step - loss: 0.0090 - val_loss: 0.0331\n",
            "Epoch 23/31\n",
            "82/82 [==============================] - 1s 8ms/step - loss: 0.0098 - val_loss: 0.0326\n",
            "Epoch 24/31\n",
            "82/82 [==============================] - 1s 7ms/step - loss: 0.0092 - val_loss: 0.0347\n",
            "Epoch 25/31\n",
            "82/82 [==============================] - 1s 7ms/step - loss: 0.0081 - val_loss: 0.0381\n",
            "Epoch 26/31\n",
            "82/82 [==============================] - 1s 8ms/step - loss: 0.0094 - val_loss: 0.0390\n",
            "Epoch 27/31\n",
            "82/82 [==============================] - 1s 11ms/step - loss: 0.0094 - val_loss: 0.0461\n",
            "Epoch 28/31\n",
            "82/82 [==============================] - 1s 9ms/step - loss: 0.0084 - val_loss: 0.0478\n",
            "Epoch 29/31\n",
            "82/82 [==============================] - 1s 10ms/step - loss: 0.0081 - val_loss: 0.0522\n",
            "Epoch 30/31\n",
            "82/82 [==============================] - 1s 9ms/step - loss: 0.0091 - val_loss: 0.0742\n",
            "Epoch 31/31\n",
            "82/82 [==============================] - 1s 7ms/step - loss: 0.0091 - val_loss: 0.0336\n"
          ]
        }
      ]
    },
    {
      "cell_type": "markdown",
      "source": [
        "# Complex Model"
      ],
      "metadata": {
        "id": "Y4OUHRS2nUKu"
      }
    },
    {
      "cell_type": "code",
      "source": [
        "def model_builder_complex(hp):\n",
        "  model = Sequential()\n",
        "  model.add(GRU(units=hp.Int(\"units\", min_value=10, max_value=200, step=10),return_sequences=True))\n",
        "  model.add(LSTM(units=hp.Int(\"units\", min_value=10, max_value=200, step=10),return_sequences=True))\n",
        "  model.add(LSTM(units=hp.Int(\"units\", min_value=10, max_value=200, step=10)))\n",
        "  model.add(Dense(2))\n",
        "  model.compile(optimizer=\"adam\",loss=\"mean_absolute_error\")\n",
        "  return model"
      ],
      "metadata": {
        "id": "giBE5u4VnWCV"
      },
      "execution_count": 21,
      "outputs": []
    },
    {
      "cell_type": "code",
      "source": [
        "tuner_complex = kt.Hyperband(model_builder_complex,\n",
        "                     objective='val_loss',\n",
        "                     max_epochs=10,\n",
        "                     factor=3,\n",
        "                     directory='my_dir',\n",
        "                     project_name='complex')"
      ],
      "metadata": {
        "id": "8oLQrDnrng7z"
      },
      "execution_count": 24,
      "outputs": []
    },
    {
      "cell_type": "code",
      "source": [
        "tuner_complex.search(X_train, y_train, epochs=50, validation_data=(X_val, y_val), callbacks=[stop_early])"
      ],
      "metadata": {
        "colab": {
          "base_uri": "https://localhost:8080/"
        },
        "id": "p6tdk1oVnroB",
        "outputId": "ef44316f-fab0-453b-f032-6a96c36d78ed"
      },
      "execution_count": 25,
      "outputs": [
        {
          "output_type": "stream",
          "name": "stdout",
          "text": [
            "Trial 28 Complete [00h 00m 16s]\n",
            "val_loss: 0.15481464564800262\n",
            "\n",
            "Best val_loss So Far: 0.0587567538022995\n",
            "Total elapsed time: 00h 05m 51s\n"
          ]
        }
      ]
    },
    {
      "cell_type": "code",
      "source": [
        "# Get the optimal hyperparameters\n",
        "best_hps = tuner_complex.get_best_hyperparameters(num_trials=1)[0]\n",
        "\n",
        "print(f\"\"\"\n",
        "The hyperparameter search is complete. The optimal number of units is {best_hps.get('units')}\"\"\")"
      ],
      "metadata": {
        "colab": {
          "base_uri": "https://localhost:8080/"
        },
        "id": "UxVWV-I6n4E8",
        "outputId": "e9ae95d1-9616-4582-9200-67f2ccf7262a"
      },
      "execution_count": 26,
      "outputs": [
        {
          "output_type": "stream",
          "name": "stdout",
          "text": [
            "\n",
            "The hyperparameter search is complete. The optimal number of units is 200\n"
          ]
        }
      ]
    },
    {
      "cell_type": "code",
      "source": [
        "# Build the model with the optimal hyperparameters and train it on the data for 50 epochs\n",
        "model = tuner_complex.hypermodel.build(best_hps)\n",
        "history = model.fit(X_train, y_train, epochs=50, validation_data=(X_val,y_val))\n",
        "\n",
        "val_loss_per_epoch = history.history['val_loss']\n",
        "best_epoch = val_loss_per_epoch.index(min(val_loss_per_epoch)) + 1\n",
        "print('Best epoch: %d' % (best_epoch,))"
      ],
      "metadata": {
        "colab": {
          "base_uri": "https://localhost:8080/"
        },
        "id": "6zL1mYLaoF7S",
        "outputId": "99e28792-2699-4688-ed8f-eb7a4cb1c6bf"
      },
      "execution_count": 27,
      "outputs": [
        {
          "output_type": "stream",
          "name": "stdout",
          "text": [
            "Epoch 1/50\n",
            "82/82 [==============================] - 9s 20ms/step - loss: 0.0404 - val_loss: 0.0900\n",
            "Epoch 2/50\n",
            "82/82 [==============================] - 1s 7ms/step - loss: 0.0136 - val_loss: 0.1269\n",
            "Epoch 3/50\n",
            "82/82 [==============================] - 1s 7ms/step - loss: 0.0163 - val_loss: 0.1233\n",
            "Epoch 4/50\n",
            "82/82 [==============================] - 1s 8ms/step - loss: 0.0137 - val_loss: 0.1512\n",
            "Epoch 5/50\n",
            "82/82 [==============================] - 1s 8ms/step - loss: 0.0146 - val_loss: 0.1084\n",
            "Epoch 6/50\n",
            "82/82 [==============================] - 1s 8ms/step - loss: 0.0132 - val_loss: 0.0625\n",
            "Epoch 7/50\n",
            "82/82 [==============================] - 1s 11ms/step - loss: 0.0171 - val_loss: 0.1326\n",
            "Epoch 8/50\n",
            "82/82 [==============================] - 1s 10ms/step - loss: 0.0139 - val_loss: 0.1381\n",
            "Epoch 9/50\n",
            "82/82 [==============================] - 1s 10ms/step - loss: 0.0131 - val_loss: 0.0730\n",
            "Epoch 10/50\n",
            "82/82 [==============================] - 1s 8ms/step - loss: 0.0125 - val_loss: 0.0786\n",
            "Epoch 11/50\n",
            "82/82 [==============================] - 1s 8ms/step - loss: 0.0128 - val_loss: 0.0864\n",
            "Epoch 12/50\n",
            "82/82 [==============================] - 1s 9ms/step - loss: 0.0123 - val_loss: 0.0859\n",
            "Epoch 13/50\n",
            "82/82 [==============================] - 1s 8ms/step - loss: 0.0136 - val_loss: 0.0774\n",
            "Epoch 14/50\n",
            "82/82 [==============================] - 1s 7ms/step - loss: 0.0136 - val_loss: 0.1387\n",
            "Epoch 15/50\n",
            "82/82 [==============================] - 1s 9ms/step - loss: 0.0141 - val_loss: 0.1145\n",
            "Epoch 16/50\n",
            "82/82 [==============================] - 1s 8ms/step - loss: 0.0117 - val_loss: 0.1108\n",
            "Epoch 17/50\n",
            "82/82 [==============================] - 1s 8ms/step - loss: 0.0116 - val_loss: 0.0837\n",
            "Epoch 18/50\n",
            "82/82 [==============================] - 1s 8ms/step - loss: 0.0104 - val_loss: 0.1232\n",
            "Epoch 19/50\n",
            "82/82 [==============================] - 1s 7ms/step - loss: 0.0104 - val_loss: 0.0402\n",
            "Epoch 20/50\n",
            "82/82 [==============================] - 1s 8ms/step - loss: 0.0104 - val_loss: 0.0430\n",
            "Epoch 21/50\n",
            "82/82 [==============================] - 1s 9ms/step - loss: 0.0101 - val_loss: 0.0363\n",
            "Epoch 22/50\n",
            "82/82 [==============================] - 1s 7ms/step - loss: 0.0100 - val_loss: 0.0400\n",
            "Epoch 23/50\n",
            "82/82 [==============================] - 1s 7ms/step - loss: 0.0093 - val_loss: 0.0379\n",
            "Epoch 24/50\n",
            "82/82 [==============================] - 1s 8ms/step - loss: 0.0103 - val_loss: 0.0855\n",
            "Epoch 25/50\n",
            "82/82 [==============================] - 1s 10ms/step - loss: 0.0097 - val_loss: 0.0450\n",
            "Epoch 26/50\n",
            "82/82 [==============================] - 1s 12ms/step - loss: 0.0100 - val_loss: 0.0599\n",
            "Epoch 27/50\n",
            "82/82 [==============================] - 1s 11ms/step - loss: 0.0096 - val_loss: 0.0628\n",
            "Epoch 28/50\n",
            "82/82 [==============================] - 1s 10ms/step - loss: 0.0089 - val_loss: 0.0478\n",
            "Epoch 29/50\n",
            "82/82 [==============================] - 1s 8ms/step - loss: 0.0093 - val_loss: 0.0969\n",
            "Epoch 30/50\n",
            "82/82 [==============================] - 1s 8ms/step - loss: 0.0102 - val_loss: 0.0543\n",
            "Epoch 31/50\n",
            "82/82 [==============================] - 1s 8ms/step - loss: 0.0087 - val_loss: 0.0617\n",
            "Epoch 32/50\n",
            "82/82 [==============================] - 1s 8ms/step - loss: 0.0086 - val_loss: 0.0355\n",
            "Epoch 33/50\n",
            "82/82 [==============================] - 1s 9ms/step - loss: 0.0088 - val_loss: 0.0762\n",
            "Epoch 34/50\n",
            "82/82 [==============================] - 1s 8ms/step - loss: 0.0090 - val_loss: 0.0456\n",
            "Epoch 35/50\n",
            "82/82 [==============================] - 1s 8ms/step - loss: 0.0084 - val_loss: 0.0533\n",
            "Epoch 36/50\n",
            "82/82 [==============================] - 1s 7ms/step - loss: 0.0085 - val_loss: 0.0444\n",
            "Epoch 37/50\n",
            "82/82 [==============================] - 1s 7ms/step - loss: 0.0083 - val_loss: 0.0445\n",
            "Epoch 38/50\n",
            "82/82 [==============================] - 1s 8ms/step - loss: 0.0084 - val_loss: 0.0486\n",
            "Epoch 39/50\n",
            "82/82 [==============================] - 1s 7ms/step - loss: 0.0099 - val_loss: 0.0918\n",
            "Epoch 40/50\n",
            "82/82 [==============================] - 1s 7ms/step - loss: 0.0081 - val_loss: 0.0503\n",
            "Epoch 41/50\n",
            "82/82 [==============================] - 1s 8ms/step - loss: 0.0082 - val_loss: 0.0433\n",
            "Epoch 42/50\n",
            "82/82 [==============================] - 1s 7ms/step - loss: 0.0083 - val_loss: 0.0392\n",
            "Epoch 43/50\n",
            "82/82 [==============================] - 1s 8ms/step - loss: 0.0088 - val_loss: 0.0627\n",
            "Epoch 44/50\n",
            "82/82 [==============================] - 1s 8ms/step - loss: 0.0085 - val_loss: 0.0411\n",
            "Epoch 45/50\n",
            "82/82 [==============================] - 1s 11ms/step - loss: 0.0090 - val_loss: 0.0515\n",
            "Epoch 46/50\n",
            "82/82 [==============================] - 1s 11ms/step - loss: 0.0081 - val_loss: 0.0746\n",
            "Epoch 47/50\n",
            "82/82 [==============================] - 1s 11ms/step - loss: 0.0087 - val_loss: 0.0496\n",
            "Epoch 48/50\n",
            "82/82 [==============================] - 1s 7ms/step - loss: 0.0092 - val_loss: 0.0818\n",
            "Epoch 49/50\n",
            "82/82 [==============================] - 1s 7ms/step - loss: 0.0078 - val_loss: 0.0584\n",
            "Epoch 50/50\n",
            "82/82 [==============================] - 1s 8ms/step - loss: 0.0095 - val_loss: 0.0646\n",
            "Best epoch: 32\n"
          ]
        }
      ]
    },
    {
      "cell_type": "code",
      "source": [
        "hypermodel = tuner_complex.hypermodel.build(best_hps)\n",
        "\n",
        "# Retrain the model\n",
        "history_complex = hypermodel.fit(X_train, y_train, epochs=best_epoch, validation_data=(X_val,y_val))"
      ],
      "metadata": {
        "colab": {
          "base_uri": "https://localhost:8080/"
        },
        "id": "zakPGvZVoOc4",
        "outputId": "21dc68a2-e8ca-4a1b-c62d-97f56c491e64"
      },
      "execution_count": 28,
      "outputs": [
        {
          "output_type": "stream",
          "name": "stdout",
          "text": [
            "Epoch 1/32\n",
            "82/82 [==============================] - 10s 20ms/step - loss: 0.0413 - val_loss: 0.1176\n",
            "Epoch 2/32\n",
            "82/82 [==============================] - 1s 8ms/step - loss: 0.0152 - val_loss: 0.1034\n",
            "Epoch 3/32\n",
            "82/82 [==============================] - 1s 8ms/step - loss: 0.0148 - val_loss: 0.0913\n",
            "Epoch 4/32\n",
            "82/82 [==============================] - 1s 8ms/step - loss: 0.0136 - val_loss: 0.1207\n",
            "Epoch 5/32\n",
            "82/82 [==============================] - 1s 7ms/step - loss: 0.0159 - val_loss: 0.1740\n",
            "Epoch 6/32\n",
            "82/82 [==============================] - 1s 8ms/step - loss: 0.0149 - val_loss: 0.1022\n",
            "Epoch 7/32\n",
            "82/82 [==============================] - 1s 8ms/step - loss: 0.0134 - val_loss: 0.0894\n",
            "Epoch 8/32\n",
            "82/82 [==============================] - 1s 7ms/step - loss: 0.0138 - val_loss: 0.1205\n",
            "Epoch 9/32\n",
            "82/82 [==============================] - 1s 8ms/step - loss: 0.0144 - val_loss: 0.0807\n",
            "Epoch 10/32\n",
            "82/82 [==============================] - 1s 8ms/step - loss: 0.0133 - val_loss: 0.0988\n",
            "Epoch 11/32\n",
            "82/82 [==============================] - 1s 8ms/step - loss: 0.0140 - val_loss: 0.0750\n",
            "Epoch 12/32\n",
            "82/82 [==============================] - 1s 9ms/step - loss: 0.0127 - val_loss: 0.0921\n",
            "Epoch 13/32\n",
            "82/82 [==============================] - 1s 8ms/step - loss: 0.0121 - val_loss: 0.1526\n",
            "Epoch 14/32\n",
            "82/82 [==============================] - 1s 8ms/step - loss: 0.0123 - val_loss: 0.0992\n",
            "Epoch 15/32\n",
            "82/82 [==============================] - 1s 11ms/step - loss: 0.0116 - val_loss: 0.0678\n",
            "Epoch 16/32\n",
            "82/82 [==============================] - 1s 11ms/step - loss: 0.0119 - val_loss: 0.1137\n",
            "Epoch 17/32\n",
            "82/82 [==============================] - 1s 11ms/step - loss: 0.0133 - val_loss: 0.0720\n",
            "Epoch 18/32\n",
            "82/82 [==============================] - 1s 9ms/step - loss: 0.0118 - val_loss: 0.0634\n",
            "Epoch 19/32\n",
            "82/82 [==============================] - 1s 8ms/step - loss: 0.0131 - val_loss: 0.1028\n",
            "Epoch 20/32\n",
            "82/82 [==============================] - 1s 7ms/step - loss: 0.0110 - val_loss: 0.0528\n",
            "Epoch 21/32\n",
            "82/82 [==============================] - 1s 8ms/step - loss: 0.0107 - val_loss: 0.0537\n",
            "Epoch 22/32\n",
            "82/82 [==============================] - 1s 8ms/step - loss: 0.0104 - val_loss: 0.0559\n",
            "Epoch 23/32\n",
            "82/82 [==============================] - 1s 8ms/step - loss: 0.0101 - val_loss: 0.1135\n",
            "Epoch 24/32\n",
            "82/82 [==============================] - 1s 8ms/step - loss: 0.0104 - val_loss: 0.0557\n",
            "Epoch 25/32\n",
            "82/82 [==============================] - 1s 8ms/step - loss: 0.0107 - val_loss: 0.0443\n",
            "Epoch 26/32\n",
            "82/82 [==============================] - 1s 8ms/step - loss: 0.0093 - val_loss: 0.0367\n",
            "Epoch 27/32\n",
            "82/82 [==============================] - 1s 8ms/step - loss: 0.0091 - val_loss: 0.0495\n",
            "Epoch 28/32\n",
            "82/82 [==============================] - 1s 8ms/step - loss: 0.0084 - val_loss: 0.0429\n",
            "Epoch 29/32\n",
            "82/82 [==============================] - 1s 8ms/step - loss: 0.0086 - val_loss: 0.0391\n",
            "Epoch 30/32\n",
            "82/82 [==============================] - 1s 8ms/step - loss: 0.0087 - val_loss: 0.0525\n",
            "Epoch 31/32\n",
            "82/82 [==============================] - 1s 8ms/step - loss: 0.0088 - val_loss: 0.0503\n",
            "Epoch 32/32\n",
            "82/82 [==============================] - 1s 7ms/step - loss: 0.0086 - val_loss: 0.0353\n"
          ]
        }
      ]
    },
    {
      "cell_type": "code",
      "source": [],
      "metadata": {
        "id": "pXZ4COfAp7wB"
      },
      "execution_count": null,
      "outputs": []
    }
  ]
}