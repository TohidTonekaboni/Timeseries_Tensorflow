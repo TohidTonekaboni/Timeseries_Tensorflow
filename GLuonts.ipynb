{
  "nbformat": 4,
  "nbformat_minor": 0,
  "metadata": {
    "colab": {
      "provenance": [],
      "gpuType": "T4"
    },
    "kernelspec": {
      "name": "python3",
      "display_name": "Python 3"
    },
    "language_info": {
      "name": "python"
    },
    "accelerator": "GPU"
  },
  "cells": [
    {
      "cell_type": "code",
      "execution_count": 1,
      "metadata": {
        "id": "Z8HKCKw5riV-"
      },
      "outputs": [],
      "source": [
        "import yfinance as yf\n",
        "import tensorflow as tf\n",
        "import numpy as np\n",
        "import pandas as pd\n",
        "import matplotlib.pyplot as plt\n",
        "from sklearn.preprocessing import MinMaxScaler"
      ]
    },
    {
      "cell_type": "code",
      "source": [
        "ms = yf.download('MSFT',\n",
        "            start=\"2012-01-01\",\n",
        "            end=\"2021-12-31\",\n",
        "            progress=False)\n",
        "df = ms[[\"Adj Close\", \"Open\", \"Close\", \"High\", \"Low\"]].round(3)\n",
        "df.head(10)"
      ],
      "metadata": {
        "colab": {
          "base_uri": "https://localhost:8080/",
          "height": 394
        },
        "id": "mqQvmjKBr0AY",
        "outputId": "4eee7b65-698d-4b84-952e-39bb29887f59"
      },
      "execution_count": 2,
      "outputs": [
        {
          "output_type": "execute_result",
          "data": {
            "text/plain": [
              "            Adj Close   Open  Close   High    Low\n",
              "Date                                             \n",
              "2012-01-03     21.278  26.55  26.77  26.96  26.39\n",
              "2012-01-04     21.779  26.82  27.40  27.47  26.78\n",
              "2012-01-05     22.001  27.38  27.68  27.73  27.29\n",
              "2012-01-06     22.343  27.53  28.11  28.19  27.53\n",
              "2012-01-09     22.049  28.05  27.74  28.10  27.72\n",
              "2012-01-10     22.129  27.93  27.84  28.15  27.75\n",
              "2012-01-11     22.033  27.43  27.72  27.98  27.37\n",
              "2012-01-12     22.256  27.87  28.00  28.02  27.65\n",
              "2012-01-13     22.454  27.93  28.25  28.25  27.79\n",
              "2012-01-17     22.462  28.40  28.26  28.65  28.17"
            ],
            "text/html": [
              "\n",
              "  <div id=\"df-a2d717ac-098a-435f-a16f-350aded23305\" class=\"colab-df-container\">\n",
              "    <div>\n",
              "<style scoped>\n",
              "    .dataframe tbody tr th:only-of-type {\n",
              "        vertical-align: middle;\n",
              "    }\n",
              "\n",
              "    .dataframe tbody tr th {\n",
              "        vertical-align: top;\n",
              "    }\n",
              "\n",
              "    .dataframe thead th {\n",
              "        text-align: right;\n",
              "    }\n",
              "</style>\n",
              "<table border=\"1\" class=\"dataframe\">\n",
              "  <thead>\n",
              "    <tr style=\"text-align: right;\">\n",
              "      <th></th>\n",
              "      <th>Adj Close</th>\n",
              "      <th>Open</th>\n",
              "      <th>Close</th>\n",
              "      <th>High</th>\n",
              "      <th>Low</th>\n",
              "    </tr>\n",
              "    <tr>\n",
              "      <th>Date</th>\n",
              "      <th></th>\n",
              "      <th></th>\n",
              "      <th></th>\n",
              "      <th></th>\n",
              "      <th></th>\n",
              "    </tr>\n",
              "  </thead>\n",
              "  <tbody>\n",
              "    <tr>\n",
              "      <th>2012-01-03</th>\n",
              "      <td>21.278</td>\n",
              "      <td>26.55</td>\n",
              "      <td>26.77</td>\n",
              "      <td>26.96</td>\n",
              "      <td>26.39</td>\n",
              "    </tr>\n",
              "    <tr>\n",
              "      <th>2012-01-04</th>\n",
              "      <td>21.779</td>\n",
              "      <td>26.82</td>\n",
              "      <td>27.40</td>\n",
              "      <td>27.47</td>\n",
              "      <td>26.78</td>\n",
              "    </tr>\n",
              "    <tr>\n",
              "      <th>2012-01-05</th>\n",
              "      <td>22.001</td>\n",
              "      <td>27.38</td>\n",
              "      <td>27.68</td>\n",
              "      <td>27.73</td>\n",
              "      <td>27.29</td>\n",
              "    </tr>\n",
              "    <tr>\n",
              "      <th>2012-01-06</th>\n",
              "      <td>22.343</td>\n",
              "      <td>27.53</td>\n",
              "      <td>28.11</td>\n",
              "      <td>28.19</td>\n",
              "      <td>27.53</td>\n",
              "    </tr>\n",
              "    <tr>\n",
              "      <th>2012-01-09</th>\n",
              "      <td>22.049</td>\n",
              "      <td>28.05</td>\n",
              "      <td>27.74</td>\n",
              "      <td>28.10</td>\n",
              "      <td>27.72</td>\n",
              "    </tr>\n",
              "    <tr>\n",
              "      <th>2012-01-10</th>\n",
              "      <td>22.129</td>\n",
              "      <td>27.93</td>\n",
              "      <td>27.84</td>\n",
              "      <td>28.15</td>\n",
              "      <td>27.75</td>\n",
              "    </tr>\n",
              "    <tr>\n",
              "      <th>2012-01-11</th>\n",
              "      <td>22.033</td>\n",
              "      <td>27.43</td>\n",
              "      <td>27.72</td>\n",
              "      <td>27.98</td>\n",
              "      <td>27.37</td>\n",
              "    </tr>\n",
              "    <tr>\n",
              "      <th>2012-01-12</th>\n",
              "      <td>22.256</td>\n",
              "      <td>27.87</td>\n",
              "      <td>28.00</td>\n",
              "      <td>28.02</td>\n",
              "      <td>27.65</td>\n",
              "    </tr>\n",
              "    <tr>\n",
              "      <th>2012-01-13</th>\n",
              "      <td>22.454</td>\n",
              "      <td>27.93</td>\n",
              "      <td>28.25</td>\n",
              "      <td>28.25</td>\n",
              "      <td>27.79</td>\n",
              "    </tr>\n",
              "    <tr>\n",
              "      <th>2012-01-17</th>\n",
              "      <td>22.462</td>\n",
              "      <td>28.40</td>\n",
              "      <td>28.26</td>\n",
              "      <td>28.65</td>\n",
              "      <td>28.17</td>\n",
              "    </tr>\n",
              "  </tbody>\n",
              "</table>\n",
              "</div>\n",
              "    <div class=\"colab-df-buttons\">\n",
              "\n",
              "  <div class=\"colab-df-container\">\n",
              "    <button class=\"colab-df-convert\" onclick=\"convertToInteractive('df-a2d717ac-098a-435f-a16f-350aded23305')\"\n",
              "            title=\"Convert this dataframe to an interactive table.\"\n",
              "            style=\"display:none;\">\n",
              "\n",
              "  <svg xmlns=\"http://www.w3.org/2000/svg\" height=\"24px\" viewBox=\"0 -960 960 960\">\n",
              "    <path d=\"M120-120v-720h720v720H120Zm60-500h600v-160H180v160Zm220 220h160v-160H400v160Zm0 220h160v-160H400v160ZM180-400h160v-160H180v160Zm440 0h160v-160H620v160ZM180-180h160v-160H180v160Zm440 0h160v-160H620v160Z\"/>\n",
              "  </svg>\n",
              "    </button>\n",
              "\n",
              "  <style>\n",
              "    .colab-df-container {\n",
              "      display:flex;\n",
              "      gap: 12px;\n",
              "    }\n",
              "\n",
              "    .colab-df-convert {\n",
              "      background-color: #E8F0FE;\n",
              "      border: none;\n",
              "      border-radius: 50%;\n",
              "      cursor: pointer;\n",
              "      display: none;\n",
              "      fill: #1967D2;\n",
              "      height: 32px;\n",
              "      padding: 0 0 0 0;\n",
              "      width: 32px;\n",
              "    }\n",
              "\n",
              "    .colab-df-convert:hover {\n",
              "      background-color: #E2EBFA;\n",
              "      box-shadow: 0px 1px 2px rgba(60, 64, 67, 0.3), 0px 1px 3px 1px rgba(60, 64, 67, 0.15);\n",
              "      fill: #174EA6;\n",
              "    }\n",
              "\n",
              "    .colab-df-buttons div {\n",
              "      margin-bottom: 4px;\n",
              "    }\n",
              "\n",
              "    [theme=dark] .colab-df-convert {\n",
              "      background-color: #3B4455;\n",
              "      fill: #D2E3FC;\n",
              "    }\n",
              "\n",
              "    [theme=dark] .colab-df-convert:hover {\n",
              "      background-color: #434B5C;\n",
              "      box-shadow: 0px 1px 3px 1px rgba(0, 0, 0, 0.15);\n",
              "      filter: drop-shadow(0px 1px 2px rgba(0, 0, 0, 0.3));\n",
              "      fill: #FFFFFF;\n",
              "    }\n",
              "  </style>\n",
              "\n",
              "    <script>\n",
              "      const buttonEl =\n",
              "        document.querySelector('#df-a2d717ac-098a-435f-a16f-350aded23305 button.colab-df-convert');\n",
              "      buttonEl.style.display =\n",
              "        google.colab.kernel.accessAllowed ? 'block' : 'none';\n",
              "\n",
              "      async function convertToInteractive(key) {\n",
              "        const element = document.querySelector('#df-a2d717ac-098a-435f-a16f-350aded23305');\n",
              "        const dataTable =\n",
              "          await google.colab.kernel.invokeFunction('convertToInteractive',\n",
              "                                                    [key], {});\n",
              "        if (!dataTable) return;\n",
              "\n",
              "        const docLinkHtml = 'Like what you see? Visit the ' +\n",
              "          '<a target=\"_blank\" href=https://colab.research.google.com/notebooks/data_table.ipynb>data table notebook</a>'\n",
              "          + ' to learn more about interactive tables.';\n",
              "        element.innerHTML = '';\n",
              "        dataTable['output_type'] = 'display_data';\n",
              "        await google.colab.output.renderOutput(dataTable, element);\n",
              "        const docLink = document.createElement('div');\n",
              "        docLink.innerHTML = docLinkHtml;\n",
              "        element.appendChild(docLink);\n",
              "      }\n",
              "    </script>\n",
              "  </div>\n",
              "\n",
              "\n",
              "<div id=\"df-9ea7546f-bffe-4987-a27b-d6135238fa7a\">\n",
              "  <button class=\"colab-df-quickchart\" onclick=\"quickchart('df-9ea7546f-bffe-4987-a27b-d6135238fa7a')\"\n",
              "            title=\"Suggest charts\"\n",
              "            style=\"display:none;\">\n",
              "\n",
              "<svg xmlns=\"http://www.w3.org/2000/svg\" height=\"24px\"viewBox=\"0 0 24 24\"\n",
              "     width=\"24px\">\n",
              "    <g>\n",
              "        <path d=\"M19 3H5c-1.1 0-2 .9-2 2v14c0 1.1.9 2 2 2h14c1.1 0 2-.9 2-2V5c0-1.1-.9-2-2-2zM9 17H7v-7h2v7zm4 0h-2V7h2v10zm4 0h-2v-4h2v4z\"/>\n",
              "    </g>\n",
              "</svg>\n",
              "  </button>\n",
              "\n",
              "<style>\n",
              "  .colab-df-quickchart {\n",
              "      --bg-color: #E8F0FE;\n",
              "      --fill-color: #1967D2;\n",
              "      --hover-bg-color: #E2EBFA;\n",
              "      --hover-fill-color: #174EA6;\n",
              "      --disabled-fill-color: #AAA;\n",
              "      --disabled-bg-color: #DDD;\n",
              "  }\n",
              "\n",
              "  [theme=dark] .colab-df-quickchart {\n",
              "      --bg-color: #3B4455;\n",
              "      --fill-color: #D2E3FC;\n",
              "      --hover-bg-color: #434B5C;\n",
              "      --hover-fill-color: #FFFFFF;\n",
              "      --disabled-bg-color: #3B4455;\n",
              "      --disabled-fill-color: #666;\n",
              "  }\n",
              "\n",
              "  .colab-df-quickchart {\n",
              "    background-color: var(--bg-color);\n",
              "    border: none;\n",
              "    border-radius: 50%;\n",
              "    cursor: pointer;\n",
              "    display: none;\n",
              "    fill: var(--fill-color);\n",
              "    height: 32px;\n",
              "    padding: 0;\n",
              "    width: 32px;\n",
              "  }\n",
              "\n",
              "  .colab-df-quickchart:hover {\n",
              "    background-color: var(--hover-bg-color);\n",
              "    box-shadow: 0 1px 2px rgba(60, 64, 67, 0.3), 0 1px 3px 1px rgba(60, 64, 67, 0.15);\n",
              "    fill: var(--button-hover-fill-color);\n",
              "  }\n",
              "\n",
              "  .colab-df-quickchart-complete:disabled,\n",
              "  .colab-df-quickchart-complete:disabled:hover {\n",
              "    background-color: var(--disabled-bg-color);\n",
              "    fill: var(--disabled-fill-color);\n",
              "    box-shadow: none;\n",
              "  }\n",
              "\n",
              "  .colab-df-spinner {\n",
              "    border: 2px solid var(--fill-color);\n",
              "    border-color: transparent;\n",
              "    border-bottom-color: var(--fill-color);\n",
              "    animation:\n",
              "      spin 1s steps(1) infinite;\n",
              "  }\n",
              "\n",
              "  @keyframes spin {\n",
              "    0% {\n",
              "      border-color: transparent;\n",
              "      border-bottom-color: var(--fill-color);\n",
              "      border-left-color: var(--fill-color);\n",
              "    }\n",
              "    20% {\n",
              "      border-color: transparent;\n",
              "      border-left-color: var(--fill-color);\n",
              "      border-top-color: var(--fill-color);\n",
              "    }\n",
              "    30% {\n",
              "      border-color: transparent;\n",
              "      border-left-color: var(--fill-color);\n",
              "      border-top-color: var(--fill-color);\n",
              "      border-right-color: var(--fill-color);\n",
              "    }\n",
              "    40% {\n",
              "      border-color: transparent;\n",
              "      border-right-color: var(--fill-color);\n",
              "      border-top-color: var(--fill-color);\n",
              "    }\n",
              "    60% {\n",
              "      border-color: transparent;\n",
              "      border-right-color: var(--fill-color);\n",
              "    }\n",
              "    80% {\n",
              "      border-color: transparent;\n",
              "      border-right-color: var(--fill-color);\n",
              "      border-bottom-color: var(--fill-color);\n",
              "    }\n",
              "    90% {\n",
              "      border-color: transparent;\n",
              "      border-bottom-color: var(--fill-color);\n",
              "    }\n",
              "  }\n",
              "</style>\n",
              "\n",
              "  <script>\n",
              "    async function quickchart(key) {\n",
              "      const quickchartButtonEl =\n",
              "        document.querySelector('#' + key + ' button');\n",
              "      quickchartButtonEl.disabled = true;  // To prevent multiple clicks.\n",
              "      quickchartButtonEl.classList.add('colab-df-spinner');\n",
              "      try {\n",
              "        const charts = await google.colab.kernel.invokeFunction(\n",
              "            'suggestCharts', [key], {});\n",
              "      } catch (error) {\n",
              "        console.error('Error during call to suggestCharts:', error);\n",
              "      }\n",
              "      quickchartButtonEl.classList.remove('colab-df-spinner');\n",
              "      quickchartButtonEl.classList.add('colab-df-quickchart-complete');\n",
              "    }\n",
              "    (() => {\n",
              "      let quickchartButtonEl =\n",
              "        document.querySelector('#df-9ea7546f-bffe-4987-a27b-d6135238fa7a button');\n",
              "      quickchartButtonEl.style.display =\n",
              "        google.colab.kernel.accessAllowed ? 'block' : 'none';\n",
              "    })();\n",
              "  </script>\n",
              "</div>\n",
              "    </div>\n",
              "  </div>\n"
            ]
          },
          "metadata": {},
          "execution_count": 2
        }
      ]
    },
    {
      "cell_type": "code",
      "source": [
        "def ts_data(df, X_steps, y_steps):\n",
        "  train_df = df[:\"2020\"].Close.values.reshape(-1, 1)\n",
        "  test_df = df[\"2021\":].Close.values.reshape(-1, 1)\n",
        "\n",
        "  sc = MinMaxScaler(feature_range=(0, 1))\n",
        "  train_df_scaled = sc.fit_transform(train_df)\n",
        "\n",
        "  X_train = []\n",
        "  y_train = []\n",
        "  for i in range(X_steps, len(train_df_scaled)-y_steps+1):\n",
        "    X_train.append(train_df_scaled[i-X_steps:i, 0])\n",
        "    y_train.append(train_df_scaled[i:i+y_steps, 0])\n",
        "  X_train = np.array(X_train)\n",
        "  y_train = np.array(y_train)\n",
        "\n",
        "  X_train = X_train.reshape((X_train.shape[0], X_train.shape[1], 1))\n",
        "\n",
        "  X = df.Close.values\n",
        "  X = X[len(X)-len(test_df)-X_steps:]\n",
        "  X = X.reshape(-1, 1)\n",
        "  X = sc.transform(X)\n",
        "\n",
        "  X_test = []\n",
        "  y_test = []\n",
        "  for i in range(X_steps, len(test_df)+X_steps-y_steps+1):\n",
        "    X_test.append(X[i-X_steps:i, 0])\n",
        "    y_test.append(X[i:i+y_steps, 0])\n",
        "\n",
        "  X_test = np.array(X_test)\n",
        "  X_test = X_test.reshape((X_test.shape[0], X_test.shape[1], 1))\n",
        "  y_test = np.array(y_test)\n",
        "\n",
        "  return X_train, y_train, X_test, y_test, sc"
      ],
      "metadata": {
        "id": "g5gGSZEBsEiI"
      },
      "execution_count": 3,
      "outputs": []
    },
    {
      "cell_type": "code",
      "source": [
        "X_train, y_train, X_test, y_test, sc = ts_data(df, 6, 2)"
      ],
      "metadata": {
        "id": "bXrauSgDsMB7"
      },
      "execution_count": 4,
      "outputs": []
    },
    {
      "cell_type": "markdown",
      "source": [
        "# Gluonts"
      ],
      "metadata": {
        "id": "PLVXlJaasXWO"
      }
    },
    {
      "cell_type": "code",
      "source": [
        "!pip install gluonts[mxnet]"
      ],
      "metadata": {
        "colab": {
          "base_uri": "https://localhost:8080/"
        },
        "id": "8hMgqWzisMk8",
        "outputId": "f815ed50-6a09-4c0f-b823-781c5f78b730"
      },
      "execution_count": 5,
      "outputs": [
        {
          "output_type": "stream",
          "name": "stdout",
          "text": [
            "Collecting gluonts[mxnet]\n",
            "  Downloading gluonts-0.14.3-py3-none-any.whl (1.5 MB)\n",
            "\u001b[2K     \u001b[90m━━━━━━━━━━━━━━━━━━━━━━━━━━━━━━━━━━━━━━━━\u001b[0m \u001b[32m1.5/1.5 MB\u001b[0m \u001b[31m10.0 MB/s\u001b[0m eta \u001b[36m0:00:00\u001b[0m\n",
            "\u001b[?25hRequirement already satisfied: numpy~=1.16 in /usr/local/lib/python3.10/dist-packages (from gluonts[mxnet]) (1.23.5)\n",
            "Requirement already satisfied: pandas<3,>=1.0 in /usr/local/lib/python3.10/dist-packages (from gluonts[mxnet]) (1.5.3)\n",
            "Requirement already satisfied: pydantic<3,>=1.7 in /usr/local/lib/python3.10/dist-packages (from gluonts[mxnet]) (1.10.13)\n",
            "Requirement already satisfied: tqdm~=4.23 in /usr/local/lib/python3.10/dist-packages (from gluonts[mxnet]) (4.66.1)\n",
            "Requirement already satisfied: toolz~=0.10 in /usr/local/lib/python3.10/dist-packages (from gluonts[mxnet]) (0.12.0)\n",
            "Requirement already satisfied: typing-extensions~=4.0 in /usr/local/lib/python3.10/dist-packages (from gluonts[mxnet]) (4.5.0)\n",
            "Collecting mxnet~=1.7 (from gluonts[mxnet])\n",
            "  Downloading mxnet-1.9.1-py3-none-manylinux2014_x86_64.whl (49.1 MB)\n",
            "\u001b[2K     \u001b[90m━━━━━━━━━━━━━━━━━━━━━━━━━━━━━━━━━━━━━━━━\u001b[0m \u001b[32m49.1/49.1 MB\u001b[0m \u001b[31m18.1 MB/s\u001b[0m eta \u001b[36m0:00:00\u001b[0m\n",
            "\u001b[?25hRequirement already satisfied: requests<3,>=2.20.0 in /usr/local/lib/python3.10/dist-packages (from mxnet~=1.7->gluonts[mxnet]) (2.31.0)\n",
            "Collecting graphviz<0.9.0,>=0.8.1 (from mxnet~=1.7->gluonts[mxnet])\n",
            "  Downloading graphviz-0.8.4-py2.py3-none-any.whl (16 kB)\n",
            "Requirement already satisfied: python-dateutil>=2.8.1 in /usr/local/lib/python3.10/dist-packages (from pandas<3,>=1.0->gluonts[mxnet]) (2.8.2)\n",
            "Requirement already satisfied: pytz>=2020.1 in /usr/local/lib/python3.10/dist-packages (from pandas<3,>=1.0->gluonts[mxnet]) (2023.3.post1)\n",
            "Requirement already satisfied: six>=1.5 in /usr/local/lib/python3.10/dist-packages (from python-dateutil>=2.8.1->pandas<3,>=1.0->gluonts[mxnet]) (1.16.0)\n",
            "Requirement already satisfied: charset-normalizer<4,>=2 in /usr/local/lib/python3.10/dist-packages (from requests<3,>=2.20.0->mxnet~=1.7->gluonts[mxnet]) (3.3.2)\n",
            "Requirement already satisfied: idna<4,>=2.5 in /usr/local/lib/python3.10/dist-packages (from requests<3,>=2.20.0->mxnet~=1.7->gluonts[mxnet]) (3.6)\n",
            "Requirement already satisfied: urllib3<3,>=1.21.1 in /usr/local/lib/python3.10/dist-packages (from requests<3,>=2.20.0->mxnet~=1.7->gluonts[mxnet]) (2.0.7)\n",
            "Requirement already satisfied: certifi>=2017.4.17 in /usr/local/lib/python3.10/dist-packages (from requests<3,>=2.20.0->mxnet~=1.7->gluonts[mxnet]) (2023.11.17)\n",
            "Installing collected packages: graphviz, mxnet, gluonts\n",
            "  Attempting uninstall: graphviz\n",
            "    Found existing installation: graphviz 0.20.1\n",
            "    Uninstalling graphviz-0.20.1:\n",
            "      Successfully uninstalled graphviz-0.20.1\n",
            "Successfully installed gluonts-0.14.3 graphviz-0.8.4 mxnet-1.9.1\n"
          ]
        }
      ]
    },
    {
      "cell_type": "code",
      "source": [
        "import gluonts\n",
        "from gluonts.dataset.common import ListDataset\n",
        "from gluonts.dataset.util import to_pandas"
      ],
      "metadata": {
        "colab": {
          "base_uri": "https://localhost:8080/"
        },
        "id": "kaCIogpbsax2",
        "outputId": "48803aeb-6f8f-49ea-908d-eae245371dbd"
      },
      "execution_count": 7,
      "outputs": [
        {
          "output_type": "stream",
          "name": "stderr",
          "text": [
            "/usr/local/lib/python3.10/dist-packages/gluonts/json.py:101: UserWarning: Using `json`-module for json-handling. Consider installing one of `orjson`, `ujson` to speed up serialization and deserialization.\n",
            "  warnings.warn(\n"
          ]
        }
      ]
    },
    {
      "cell_type": "code",
      "source": [
        "train_data = ListDataset(\n",
        "    [{\"start\":df.index[0], \"target\":df.Close[:\"2020\"]}],\n",
        "    freq=\"D\"\n",
        ")"
      ],
      "metadata": {
        "id": "T0vvmuWVstVV"
      },
      "execution_count": 8,
      "outputs": []
    },
    {
      "cell_type": "code",
      "source": [
        "train_listData = next(iter(train_data))\n",
        "train_series = to_pandas(train_listData)\n",
        "train_series.plot()"
      ],
      "metadata": {
        "colab": {
          "base_uri": "https://localhost:8080/",
          "height": 447
        },
        "id": "6gn5jIhBs3n1",
        "outputId": "65b0d1f9-3c4d-4068-d0bb-2e5b5f434ad7"
      },
      "execution_count": 9,
      "outputs": [
        {
          "output_type": "execute_result",
          "data": {
            "text/plain": [
              "<Axes: >"
            ]
          },
          "metadata": {},
          "execution_count": 9
        },
        {
          "output_type": "display_data",
          "data": {
            "text/plain": [
              "<Figure size 640x480 with 1 Axes>"
            ],
            "image/png": "[encoded data removed]"
          },
          "metadata": {}
        }
      ]
    },
    {
      "cell_type": "code",
      "source": [
        "test_data = ListDataset(\n",
        "    [{\"start\":df.index[0], \"target\":df.Close}],\n",
        "    freq=\"D\"\n",
        ")"
      ],
      "metadata": {
        "id": "ptm6uF22s5x9"
      },
      "execution_count": 10,
      "outputs": []
    },
    {
      "cell_type": "code",
      "source": [
        "test_listData = next(iter(test_data))\n",
        "test_series = to_pandas(test_listData)\n",
        "test_series.plot()"
      ],
      "metadata": {
        "colab": {
          "base_uri": "https://localhost:8080/",
          "height": 447
        },
        "id": "J7Uyf3Als9he",
        "outputId": "744d92ff-28e9-44cd-96c4-35e9efea3c38"
      },
      "execution_count": 11,
      "outputs": [
        {
          "output_type": "execute_result",
          "data": {
            "text/plain": [
              "<Axes: >"
            ]
          },
          "metadata": {},
          "execution_count": 11
        },
        {
          "output_type": "display_data",
          "data": {
            "text/plain": [
              "<Figure size 640x480 with 1 Axes>"
            ],
            "image/png": "[encoded data removed]"
          },
          "metadata": {}
        }
      ]
    },
    {
      "cell_type": "code",
      "source": [
        "from gluonts.mx import DeepAREstimator\n",
        "from gluonts.mx.trainer.learning_rate_scheduler import LearningRateReduction\n",
        "from gluonts.mx.trainer import Trainer\n",
        "from gluonts.mx.trainer.model_averaging import ModelAveraging,SelectNBestMean"
      ],
      "metadata": {
        "id": "2uL24pT3s-Mm"
      },
      "execution_count": 12,
      "outputs": []
    },
    {
      "cell_type": "code",
      "source": [
        "callbacks = [\n",
        "      LearningRateReduction(objective=\"min\",\n",
        "                            patience=10,\n",
        "                            base_lr=1e-3,\n",
        "                            decay_factor=0.5),\n",
        "      ModelAveraging(avg_strategy=SelectNBestMean(num_models=2))\n",
        "]"
      ],
      "metadata": {
        "id": "HKi-FYWlwAPQ"
      },
      "execution_count": 13,
      "outputs": []
    },
    {
      "cell_type": "code",
      "source": [
        "deepAR_model = DeepAREstimator(\n",
        "    freq=\"D\",\n",
        "    prediction_length=5,\n",
        "    context_length=10,\n",
        "    num_layers=4,\n",
        "    num_cells=100,\n",
        "    dropout_rate=0.05,\n",
        "    trainer=Trainer(epochs=10, callbacks=callbacks)\n",
        ")"
      ],
      "metadata": {
        "id": "d-HkSTpzwSY0"
      },
      "execution_count": 14,
      "outputs": []
    },
    {
      "cell_type": "code",
      "source": [
        "deepAR_model_predictator = deepAR_model.train(train_data)"
      ],
      "metadata": {
        "colab": {
          "base_uri": "https://localhost:8080/"
        },
        "id": "1EEINULMwmmO",
        "outputId": "7a6d9fd1-0ec5-4e9c-b779-1fd8c5ad57f2"
      },
      "execution_count": 15,
      "outputs": [
        {
          "output_type": "stream",
          "name": "stderr",
          "text": [
            "100%|██████████| 50/50 [00:09<00:00,  5.54it/s, epoch=1/10, avg_epoch_loss=3.69]\n",
            "100%|██████████| 50/50 [00:06<00:00,  7.38it/s, epoch=2/10, avg_epoch_loss=2.61]\n",
            "100%|██████████| 50/50 [00:08<00:00,  6.15it/s, epoch=3/10, avg_epoch_loss=3.07]\n",
            "100%|██████████| 50/50 [00:06<00:00,  7.16it/s, epoch=4/10, avg_epoch_loss=2.5]\n",
            "100%|██████████| 50/50 [00:08<00:00,  6.17it/s, epoch=5/10, avg_epoch_loss=2.14]\n",
            "100%|██████████| 50/50 [00:07<00:00,  6.49it/s, epoch=6/10, avg_epoch_loss=2.19]\n",
            "100%|██████████| 50/50 [00:07<00:00,  7.01it/s, epoch=7/10, avg_epoch_loss=1.94]\n",
            "100%|██████████| 50/50 [00:09<00:00,  5.45it/s, epoch=8/10, avg_epoch_loss=1.9]\n",
            "100%|██████████| 50/50 [00:06<00:00,  7.23it/s, epoch=9/10, avg_epoch_loss=1.97]\n",
            "100%|██████████| 50/50 [00:08<00:00,  6.22it/s, epoch=10/10, avg_epoch_loss=1.8]\n"
          ]
        }
      ]
    },
    {
      "cell_type": "code",
      "source": [
        "from gluonts.evaluation import make_evaluation_predictions"
      ],
      "metadata": {
        "id": "LDx8iI_jwoKW"
      },
      "execution_count": 16,
      "outputs": []
    },
    {
      "cell_type": "code",
      "source": [
        "forecast_it, ts_it = make_evaluation_predictions(\n",
        "    dataset=test_data,  # test dataset\n",
        "    predictor=deepAR_model_predictator,  # predictor\n",
        "    num_samples=100,  # number of sample paths we want for evaluation\n",
        ")"
      ],
      "metadata": {
        "id": "OaAeXN69xGZP"
      },
      "execution_count": 31,
      "outputs": []
    },
    {
      "cell_type": "code",
      "source": [
        "forecasts = list(forecast_it)\n",
        "tss = list(ts_it)"
      ],
      "metadata": {
        "id": "BpSc7qT9xM4W"
      },
      "execution_count": 32,
      "outputs": []
    },
    {
      "cell_type": "code",
      "source": [
        "ts_entry = tss[0]"
      ],
      "metadata": {
        "id": "oZxzklqHxRLi"
      },
      "execution_count": 33,
      "outputs": []
    },
    {
      "cell_type": "code",
      "source": [
        "forecast_entry = forecasts[0]"
      ],
      "metadata": {
        "id": "OiP_67HrxSxZ"
      },
      "execution_count": 34,
      "outputs": []
    },
    {
      "cell_type": "code",
      "source": [
        "forecast_entry"
      ],
      "metadata": {
        "colab": {
          "base_uri": "https://localhost:8080/"
        },
        "id": "UVd0Fnr5_7mz",
        "outputId": "ee36b835-1f52-4f15-e0e8-19bb5e84f580"
      },
      "execution_count": 35,
      "outputs": [
        {
          "output_type": "execute_result",
          "data": {
            "text/plain": [
              "gluonts.model.forecast.SampleForecast(info=None, item_id=None, samples=array([[326.7276 , 334.86618, 354.30115, 333.94595, 326.5357 ],\n",
              "       [337.1726 , 323.49628, 301.15784, 332.3505 , 344.84186],\n",
              "       [309.31198, 327.55914, 337.5437 , 331.76816, 340.1939 ],\n",
              "       [315.73648, 333.73364, 327.02124, 329.93903, 332.14874],\n",
              "       [336.71536, 328.98022, 338.3613 , 345.6109 , 341.2558 ],\n",
              "       [332.11   , 343.08237, 331.99384, 332.30103, 341.83957],\n",
              "       [323.52448, 329.32324, 334.82553, 318.74988, 367.32748],\n",
              "       [331.65808, 320.78125, 310.468  , 339.00415, 314.34772],\n",
              "       [326.3753 , 334.32068, 341.90686, 333.0624 , 333.3054 ],\n",
              "       [327.6451 , 339.281  , 328.54623, 339.52304, 328.04294],\n",
              "       [324.53986, 331.5454 , 334.938  , 340.53177, 322.14413],\n",
              "       [329.94403, 342.44876, 324.93936, 334.5991 , 315.4475 ],\n",
              "       [338.37933, 334.61533, 324.05612, 334.65826, 324.44333],\n",
              "       [310.1059 , 338.61688, 331.16678, 331.92984, 326.04712],\n",
              "       [337.35553, 321.78696, 367.25894, 340.51804, 338.77838],\n",
              "       [328.38553, 339.82904, 340.5243 , 332.4283 , 333.49594],\n",
              "       [339.54117, 330.83096, 331.3377 , 342.4894 , 338.2145 ],\n",
              "       [317.35986, 338.41452, 334.25555, 331.936  , 334.54907],\n",
              "       [331.36453, 332.00504, 354.9086 , 334.66748, 339.01752],\n",
              "       [326.06732, 333.36295, 338.98633, 335.6553 , 346.036  ],\n",
              "       [341.25848, 345.67477, 342.97742, 323.71255, 332.51282],\n",
              "       [343.19913, 337.67966, 337.00064, 370.73584, 335.71985],\n",
              "       [335.40842, 347.794  , 330.3944 , 332.17407, 323.4435 ],\n",
              "       [324.17236, 338.14777, 330.0391 , 323.56628, 329.4004 ],\n",
              "       [315.955  , 336.1205 , 320.35684, 332.2259 , 334.45215],\n",
              "       [329.84894, 332.95743, 334.68604, 329.9605 , 331.03436],\n",
              "       [331.2186 , 328.9453 , 332.2047 , 339.33917, 332.2319 ],\n",
              "       [341.03995, 377.96988, 341.63565, 330.96857, 329.33847],\n",
              "       [310.6788 , 329.67847, 339.41138, 340.17276, 325.82733],\n",
              "       [321.7481 , 331.20416, 342.42508, 335.75577, 338.1152 ],\n",
              "       [329.2246 , 327.00467, 331.90555, 325.85638, 337.93512],\n",
              "       [329.56683, 341.23447, 315.42154, 335.92453, 344.5379 ],\n",
              "       [319.78287, 343.98773, 315.47064, 331.80005, 317.37024],\n",
              "       [337.64886, 337.1219 , 355.96365, 336.9148 , 340.7021 ],\n",
              "       [329.89285, 330.5782 , 327.94034, 344.2657 , 338.88528],\n",
              "       [321.45938, 327.17233, 336.04007, 333.0737 , 336.4989 ],\n",
              "       [323.19073, 313.40903, 347.91635, 336.5301 , 325.3717 ],\n",
              "       [332.4284 , 326.28284, 325.927  , 325.89267, 324.50015],\n",
              "       [330.38693, 328.33588, 321.49347, 338.30865, 334.20874],\n",
              "       [329.9133 , 337.14096, 333.41605, 334.568  , 322.53085],\n",
              "       [339.0824 , 318.1297 , 330.85437, 333.80624, 333.18192],\n",
              "       [317.32886, 314.97177, 323.211  , 341.6867 , 346.9117 ],\n",
              "       [333.85608, 335.32306, 355.5266 , 336.36807, 331.7689 ],\n",
              "       [335.05783, 306.20547, 334.10104, 337.19382, 329.8908 ],\n",
              "       [333.81436, 333.46136, 334.63382, 331.00162, 349.38623],\n",
              "       [323.729  , 332.55716, 340.44543, 330.70697, 324.751  ],\n",
              "       [308.69412, 329.8261 , 333.60782, 334.07452, 338.40695],\n",
              "       [331.84634, 327.98825, 333.1864 , 331.06464, 336.37036],\n",
              "       [330.91428, 329.3658 , 331.30435, 321.07953, 328.57736],\n",
              "       [332.64795, 335.94846, 344.59525, 332.25992, 332.42206],\n",
              "       [332.16815, 333.5387 , 327.64343, 334.47775, 339.46548],\n",
              "       [335.38403, 332.06854, 332.73965, 298.46194, 316.24014],\n",
              "       [312.23795, 333.9854 , 308.02512, 329.49374, 336.54474],\n",
              "       [333.9361 , 342.40662, 405.98953, 336.07205, 334.23972],\n",
              "       [331.22473, 337.9276 , 336.17947, 333.22064, 324.74548],\n",
              "       [320.86798, 327.9751 , 340.8366 , 333.8671 , 331.1469 ],\n",
              "       [323.43863, 336.31766, 336.63287, 321.6896 , 335.18906],\n",
              "       [305.03815, 329.51984, 329.6222 , 340.80524, 339.2011 ],\n",
              "       [329.4373 , 336.58533, 333.83542, 324.8747 , 338.97583],\n",
              "       [327.85614, 326.71826, 344.73138, 335.1167 , 334.62463],\n",
              "       [330.41904, 341.76044, 334.31693, 339.6141 , 324.77405],\n",
              "       [325.25427, 323.828  , 332.35614, 340.55777, 309.52414],\n",
              "       [346.09088, 331.3582 , 316.29843, 320.1654 , 334.95782],\n",
              "       [336.01654, 326.48462, 325.76593, 348.05838, 332.93555],\n",
              "       [336.98782, 340.3379 , 330.9141 , 338.13455, 339.90976],\n",
              "       [329.82764, 348.22433, 339.77527, 325.55426, 335.89938],\n",
              "       [331.2644 , 340.56415, 337.3112 , 330.11914, 325.43863],\n",
              "       [326.4229 , 346.23633, 335.6138 , 340.40277, 332.9181 ],\n",
              "       [308.39078, 336.99423, 334.47256, 326.77814, 323.65726],\n",
              "       [334.1588 , 324.43137, 342.63025, 336.58832, 339.9578 ],\n",
              "       [324.4776 , 323.71   , 335.3377 , 318.72046, 333.1458 ],\n",
              "       [343.35754, 347.58597, 329.5935 , 329.95087, 326.24356],\n",
              "       [352.00638, 331.5634 , 334.43402, 334.3442 , 324.50156],\n",
              "       [341.977  , 335.7569 , 325.25522, 333.70007, 358.0524 ],\n",
              "       [317.5108 , 321.95328, 331.09558, 334.50937, 343.44586],\n",
              "       [347.77432, 339.78772, 330.1461 , 343.95224, 342.56207],\n",
              "       [327.85907, 328.57858, 316.5986 , 329.94894, 329.74503],\n",
              "       [325.0923 , 316.74173, 335.68237, 331.9609 , 339.45898],\n",
              "       [323.93137, 337.87796, 329.19162, 338.50784, 330.08926],\n",
              "       [330.60825, 334.59387, 337.13498, 324.8219 , 329.40594],\n",
              "       [321.58945, 332.11014, 344.62738, 329.88614, 327.08527],\n",
              "       [337.7361 , 336.4296 , 343.39874, 336.87418, 333.4051 ],\n",
              "       [335.9522 , 317.129  , 312.30856, 331.88898, 326.59067],\n",
              "       [326.5907 , 329.27853, 324.59067, 333.20544, 333.88364],\n",
              "       [331.68658, 330.79367, 330.41006, 332.01773, 328.9436 ],\n",
              "       [327.05368, 338.8805 , 333.968  , 331.306  , 346.36023],\n",
              "       [330.73752, 334.17023, 323.2791 , 333.53418, 336.2781 ],\n",
              "       [332.25378, 328.5416 , 328.59732, 342.2535 , 328.3328 ],\n",
              "       [334.5415 , 329.7398 , 310.35538, 332.1062 , 333.82596],\n",
              "       [304.39417, 318.99158, 314.4056 , 326.70926, 328.18698],\n",
              "       [331.8264 , 332.43427, 326.6187 , 329.2096 , 333.20322],\n",
              "       [326.42923, 337.05664, 332.49014, 329.30524, 344.27032],\n",
              "       [337.5864 , 332.08554, 328.6113 , 336.66092, 355.70615],\n",
              "       [323.89536, 346.08722, 340.03836, 338.60446, 344.77417],\n",
              "       [330.32037, 324.61566, 320.6788 , 322.90253, 318.30417],\n",
              "       [325.81183, 333.97012, 335.86932, 334.06488, 341.5773 ],\n",
              "       [329.39667, 329.28882, 340.6432 , 337.22498, 331.42133],\n",
              "       [325.56793, 325.312  , 333.70758, 331.19955, 354.716  ],\n",
              "       [333.89255, 321.95618, 336.23972, 343.44553, 339.6086 ],\n",
              "       [322.89044, 326.76135, 337.71558, 327.92252, 329.49048]],\n",
              "      dtype=float32), start_date=Period('2018-11-18', 'D'))"
            ]
          },
          "metadata": {},
          "execution_count": 35
        }
      ]
    },
    {
      "cell_type": "code",
      "source": [
        "forecast_entry.samples.shape"
      ],
      "metadata": {
        "colab": {
          "base_uri": "https://localhost:8080/"
        },
        "id": "5dkZpRkzxULx",
        "outputId": "2f3ca0dc-8ae3-4c32-82be-bf4d6bf93693"
      },
      "execution_count": 36,
      "outputs": [
        {
          "output_type": "execute_result",
          "data": {
            "text/plain": [
              "(100, 5)"
            ]
          },
          "metadata": {},
          "execution_count": 36
        }
      ]
    },
    {
      "cell_type": "code",
      "source": [
        "def plot_prob_forecasts(ts_entry, forecast_entry):\n",
        "    plot_length = 5\n",
        "    prediction_intervals = (50.0, 90.0)\n",
        "    legend = [\"observations\", \"median prediction\"] + [f\"{k}% prediction interval\" for k in prediction_intervals][::-1]\n",
        "\n",
        "    fig, ax = plt.subplots(1, 1, figsize=(10, 7))\n",
        "    ts_entry[-plot_length:].plot(ax=ax)  # plot the time series\n",
        "    forecast_entry.plot(prediction_intervals=prediction_intervals, color='g')\n",
        "    plt.grid(which=\"both\")\n",
        "    plt.legend(legend, loc=\"upper left\")\n",
        "\n",
        "plot_prob_forecasts(ts_entry, forecast_entry)"
      ],
      "metadata": {
        "id": "N-FiyCsQxVrZ",
        "colab": {
          "base_uri": "https://localhost:8080/",
          "height": 946
        },
        "outputId": "08ad91da-a009-42b1-b41e-1b4eeefce118"
      },
      "execution_count": 25,
      "outputs": [
        {
          "output_type": "error",
          "ename": "TypeError",
          "evalue": "ignored",
          "traceback": [
            "\u001b[0;31m---------------------------------------------------------------------------\u001b[0m",
            "\u001b[0;31mTypeError\u001b[0m                                 Traceback (most recent call last)",
            "\u001b[0;32m<ipython-input-25-3b7cd3e6e1fc>\u001b[0m in \u001b[0;36m<cell line: 12>\u001b[0;34m()\u001b[0m\n\u001b[1;32m     10\u001b[0m     \u001b[0mplt\u001b[0m\u001b[0;34m.\u001b[0m\u001b[0mlegend\u001b[0m\u001b[0;34m(\u001b[0m\u001b[0mlegend\u001b[0m\u001b[0;34m,\u001b[0m \u001b[0mloc\u001b[0m\u001b[0;34m=\u001b[0m\u001b[0;34m\"upper left\"\u001b[0m\u001b[0;34m)\u001b[0m\u001b[0;34m\u001b[0m\u001b[0;34m\u001b[0m\u001b[0m\n\u001b[1;32m     11\u001b[0m \u001b[0;34m\u001b[0m\u001b[0m\n\u001b[0;32m---> 12\u001b[0;31m \u001b[0mplot_prob_forecasts\u001b[0m\u001b[0;34m(\u001b[0m\u001b[0mts_entry\u001b[0m\u001b[0;34m,\u001b[0m \u001b[0mforecast_entry\u001b[0m\u001b[0;34m)\u001b[0m\u001b[0;34m\u001b[0m\u001b[0;34m\u001b[0m\u001b[0m\n\u001b[0m",
            "\u001b[0;32m<ipython-input-25-3b7cd3e6e1fc>\u001b[0m in \u001b[0;36mplot_prob_forecasts\u001b[0;34m(ts_entry, forecast_entry)\u001b[0m\n\u001b[1;32m      6\u001b[0m     \u001b[0mfig\u001b[0m\u001b[0;34m,\u001b[0m \u001b[0max\u001b[0m \u001b[0;34m=\u001b[0m \u001b[0mplt\u001b[0m\u001b[0;34m.\u001b[0m\u001b[0msubplots\u001b[0m\u001b[0;34m(\u001b[0m\u001b[0;36m1\u001b[0m\u001b[0;34m,\u001b[0m \u001b[0;36m1\u001b[0m\u001b[0;34m,\u001b[0m \u001b[0mfigsize\u001b[0m\u001b[0;34m=\u001b[0m\u001b[0;34m(\u001b[0m\u001b[0;36m10\u001b[0m\u001b[0;34m,\u001b[0m \u001b[0;36m7\u001b[0m\u001b[0;34m)\u001b[0m\u001b[0;34m)\u001b[0m\u001b[0;34m\u001b[0m\u001b[0;34m\u001b[0m\u001b[0m\n\u001b[1;32m      7\u001b[0m     \u001b[0mts_entry\u001b[0m\u001b[0;34m[\u001b[0m\u001b[0;34m-\u001b[0m\u001b[0mplot_length\u001b[0m\u001b[0;34m:\u001b[0m\u001b[0;34m]\u001b[0m\u001b[0;34m.\u001b[0m\u001b[0mplot\u001b[0m\u001b[0;34m(\u001b[0m\u001b[0max\u001b[0m\u001b[0;34m=\u001b[0m\u001b[0max\u001b[0m\u001b[0;34m)\u001b[0m  \u001b[0;31m# plot the time series\u001b[0m\u001b[0;34m\u001b[0m\u001b[0;34m\u001b[0m\u001b[0m\n\u001b[0;32m----> 8\u001b[0;31m     \u001b[0mforecast_entry\u001b[0m\u001b[0;34m.\u001b[0m\u001b[0mplot\u001b[0m\u001b[0;34m(\u001b[0m\u001b[0mprediction_intervals\u001b[0m\u001b[0;34m=\u001b[0m\u001b[0mprediction_intervals\u001b[0m\u001b[0;34m,\u001b[0m \u001b[0mcolor\u001b[0m\u001b[0;34m=\u001b[0m\u001b[0;34m'g'\u001b[0m\u001b[0;34m)\u001b[0m\u001b[0;34m\u001b[0m\u001b[0;34m\u001b[0m\u001b[0m\n\u001b[0m\u001b[1;32m      9\u001b[0m     \u001b[0mplt\u001b[0m\u001b[0;34m.\u001b[0m\u001b[0mgrid\u001b[0m\u001b[0;34m(\u001b[0m\u001b[0mwhich\u001b[0m\u001b[0;34m=\u001b[0m\u001b[0;34m\"both\"\u001b[0m\u001b[0;34m)\u001b[0m\u001b[0;34m\u001b[0m\u001b[0;34m\u001b[0m\u001b[0m\n\u001b[1;32m     10\u001b[0m     \u001b[0mplt\u001b[0m\u001b[0;34m.\u001b[0m\u001b[0mlegend\u001b[0m\u001b[0;34m(\u001b[0m\u001b[0mlegend\u001b[0m\u001b[0;34m,\u001b[0m \u001b[0mloc\u001b[0m\u001b[0;34m=\u001b[0m\u001b[0;34m\"upper left\"\u001b[0m\u001b[0;34m)\u001b[0m\u001b[0;34m\u001b[0m\u001b[0;34m\u001b[0m\u001b[0m\n",
            "\u001b[0;31mTypeError\u001b[0m: Forecast.plot() got an unexpected keyword argument 'prediction_intervals'"
          ]
        },
        {
          "output_type": "display_data",
          "data": {
            "text/plain": [
              "<Figure size 1000x700 with 1 Axes>"
            ],
            "image/png": "[encoded data removed]"
          },
          "metadata": {}
        }
      ]
    },
    {
      "cell_type": "code",
      "source": [],
      "metadata": {
        "id": "BE3oY4nMxZY1"
      },
      "execution_count": null,
      "outputs": []
    }
  ]
}